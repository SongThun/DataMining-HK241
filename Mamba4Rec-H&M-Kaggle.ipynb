{
 "cells": [
  {
   "cell_type": "code",
   "execution_count": 1,
   "id": "165168d5",
   "metadata": {
    "execution": {
     "iopub.execute_input": "2024-11-11T10:31:44.524837Z",
     "iopub.status.busy": "2024-11-11T10:31:44.524531Z",
     "iopub.status.idle": "2024-11-11T10:31:44.534010Z",
     "shell.execute_reply": "2024-11-11T10:31:44.533317Z"
    },
    "papermill": {
     "duration": 0.023097,
     "end_time": "2024-11-11T10:31:44.535974",
     "exception": false,
     "start_time": "2024-11-11T10:31:44.512877",
     "status": "completed"
    },
    "tags": []
   },
   "outputs": [],
   "source": [
    "import warnings\n",
    "\n",
    "warnings.filterwarnings(\"ignore\")"
   ]
  },
  {
   "cell_type": "code",
   "execution_count": 2,
   "id": "2b4cccd8",
   "metadata": {
    "_cell_guid": "b1076dfc-b9ad-4769-8c92-a6c4dae69d19",
    "_uuid": "8f2839f25d086af736a60e9eeb907d3b93b6e0e5",
    "execution": {
     "iopub.execute_input": "2024-11-11T10:31:44.558566Z",
     "iopub.status.busy": "2024-11-11T10:31:44.558286Z",
     "iopub.status.idle": "2024-11-11T10:32:21.945322Z",
     "shell.execute_reply": "2024-11-11T10:32:21.944246Z"
    },
    "papermill": {
     "duration": 37.40014,
     "end_time": "2024-11-11T10:32:21.947693",
     "exception": false,
     "start_time": "2024-11-11T10:31:44.547553",
     "status": "completed"
    },
    "tags": []
   },
   "outputs": [
    {
     "name": "stdout",
     "output_type": "stream",
     "text": [
      "Collecting recbole\r\n",
      "  Downloading recbole-1.2.0-py3-none-any.whl.metadata (1.4 kB)\r\n",
      "Collecting mamba-ssm\r\n",
      "  Downloading mamba_ssm-2.2.2.tar.gz (85 kB)\r\n",
      "\u001b[2K     \u001b[90m━━━━━━━━━━━━━━━━━━━━━━━━━━━━━━━━━━━━━━━━\u001b[0m \u001b[32m85.4/85.4 kB\u001b[0m \u001b[31m2.5 MB/s\u001b[0m eta \u001b[36m0:00:00\u001b[0m\r\n",
      "\u001b[?25h  Preparing metadata (setup.py) ... \u001b[?25l-\b \bdone\r\n",
      "\u001b[?25hRequirement already satisfied: ray in /opt/conda/lib/python3.10/site-packages (2.24.0)\r\n",
      "Collecting kmeans-pytorch\r\n",
      "  Downloading kmeans_pytorch-0.3-py3-none-any.whl.metadata (1.6 kB)\r\n",
      "Requirement already satisfied: torch>=1.10.0 in /opt/conda/lib/python3.10/site-packages (from recbole) (2.4.0)\r\n",
      "Requirement already satisfied: numpy>=1.17.2 in /opt/conda/lib/python3.10/site-packages (from recbole) (1.26.4)\r\n",
      "Requirement already satisfied: scipy>=1.6.0 in /opt/conda/lib/python3.10/site-packages (from recbole) (1.14.1)\r\n",
      "Requirement already satisfied: pandas>=1.4.0 in /opt/conda/lib/python3.10/site-packages (from recbole) (2.2.2)\r\n",
      "Requirement already satisfied: tqdm>=4.48.2 in /opt/conda/lib/python3.10/site-packages (from recbole) (4.66.4)\r\n",
      "Collecting colorlog==4.7.2 (from recbole)\r\n",
      "  Downloading colorlog-4.7.2-py2.py3-none-any.whl.metadata (9.9 kB)\r\n",
      "Collecting colorama==0.4.4 (from recbole)\r\n",
      "  Downloading colorama-0.4.4-py2.py3-none-any.whl.metadata (14 kB)\r\n",
      "Requirement already satisfied: scikit-learn>=0.23.2 in /opt/conda/lib/python3.10/site-packages (from recbole) (1.2.2)\r\n",
      "Requirement already satisfied: pyyaml>=5.1.0 in /opt/conda/lib/python3.10/site-packages (from recbole) (6.0.2)\r\n",
      "Requirement already satisfied: tensorboard>=2.5.0 in /opt/conda/lib/python3.10/site-packages (from recbole) (2.16.2)\r\n",
      "Collecting thop>=0.1.1.post2207130030 (from recbole)\r\n",
      "  Downloading thop-0.1.1.post2209072238-py3-none-any.whl.metadata (2.7 kB)\r\n",
      "Requirement already satisfied: tabulate>=0.8.10 in /opt/conda/lib/python3.10/site-packages (from recbole) (0.9.0)\r\n",
      "Requirement already satisfied: plotly>=4.0.0 in /opt/conda/lib/python3.10/site-packages (from recbole) (5.22.0)\r\n",
      "Requirement already satisfied: texttable>=0.9.0 in /opt/conda/lib/python3.10/site-packages (from recbole) (1.7.0)\r\n",
      "Requirement already satisfied: packaging in /opt/conda/lib/python3.10/site-packages (from mamba-ssm) (21.3)\r\n",
      "Requirement already satisfied: ninja in /opt/conda/lib/python3.10/site-packages (from mamba-ssm) (1.11.1.1)\r\n",
      "Collecting einops (from mamba-ssm)\r\n",
      "  Downloading einops-0.8.0-py3-none-any.whl.metadata (12 kB)\r\n",
      "Collecting triton (from mamba-ssm)\r\n",
      "  Downloading triton-3.1.0-cp310-cp310-manylinux_2_17_x86_64.manylinux2014_x86_64.whl.metadata (1.3 kB)\r\n",
      "Requirement already satisfied: transformers in /opt/conda/lib/python3.10/site-packages (from mamba-ssm) (4.45.1)\r\n",
      "Requirement already satisfied: click>=7.0 in /opt/conda/lib/python3.10/site-packages (from ray) (8.1.7)\r\n",
      "Requirement already satisfied: filelock in /opt/conda/lib/python3.10/site-packages (from ray) (3.15.1)\r\n",
      "Requirement already satisfied: jsonschema in /opt/conda/lib/python3.10/site-packages (from ray) (4.22.0)\r\n",
      "Requirement already satisfied: msgpack<2.0.0,>=1.0.0 in /opt/conda/lib/python3.10/site-packages (from ray) (1.0.8)\r\n",
      "Requirement already satisfied: protobuf!=3.19.5,>=3.15.3 in /opt/conda/lib/python3.10/site-packages (from ray) (3.20.3)\r\n",
      "Requirement already satisfied: aiosignal in /opt/conda/lib/python3.10/site-packages (from ray) (1.3.1)\r\n",
      "Requirement already satisfied: frozenlist in /opt/conda/lib/python3.10/site-packages (from ray) (1.4.1)\r\n",
      "Requirement already satisfied: requests in /opt/conda/lib/python3.10/site-packages (from ray) (2.32.3)\r\n",
      "Requirement already satisfied: python-dateutil>=2.8.2 in /opt/conda/lib/python3.10/site-packages (from pandas>=1.4.0->recbole) (2.9.0.post0)\r\n",
      "Requirement already satisfied: pytz>=2020.1 in /opt/conda/lib/python3.10/site-packages (from pandas>=1.4.0->recbole) (2024.1)\r\n",
      "Requirement already satisfied: tzdata>=2022.7 in /opt/conda/lib/python3.10/site-packages (from pandas>=1.4.0->recbole) (2024.1)\r\n",
      "Requirement already satisfied: tenacity>=6.2.0 in /opt/conda/lib/python3.10/site-packages (from plotly>=4.0.0->recbole) (8.3.0)\r\n",
      "Requirement already satisfied: joblib>=1.1.1 in /opt/conda/lib/python3.10/site-packages (from scikit-learn>=0.23.2->recbole) (1.4.2)\r\n",
      "Requirement already satisfied: threadpoolctl>=2.0.0 in /opt/conda/lib/python3.10/site-packages (from scikit-learn>=0.23.2->recbole) (3.5.0)\r\n",
      "Requirement already satisfied: absl-py>=0.4 in /opt/conda/lib/python3.10/site-packages (from tensorboard>=2.5.0->recbole) (1.4.0)\r\n",
      "Requirement already satisfied: grpcio>=1.48.2 in /opt/conda/lib/python3.10/site-packages (from tensorboard>=2.5.0->recbole) (1.62.2)\r\n",
      "Requirement already satisfied: markdown>=2.6.8 in /opt/conda/lib/python3.10/site-packages (from tensorboard>=2.5.0->recbole) (3.6)\r\n",
      "Requirement already satisfied: setuptools>=41.0.0 in /opt/conda/lib/python3.10/site-packages (from tensorboard>=2.5.0->recbole) (70.0.0)\r\n",
      "Requirement already satisfied: six>1.9 in /opt/conda/lib/python3.10/site-packages (from tensorboard>=2.5.0->recbole) (1.16.0)\r\n",
      "Requirement already satisfied: tensorboard-data-server<0.8.0,>=0.7.0 in /opt/conda/lib/python3.10/site-packages (from tensorboard>=2.5.0->recbole) (0.7.2)\r\n",
      "Requirement already satisfied: werkzeug>=1.0.1 in /opt/conda/lib/python3.10/site-packages (from tensorboard>=2.5.0->recbole) (3.0.4)\r\n",
      "Requirement already satisfied: typing-extensions>=4.8.0 in /opt/conda/lib/python3.10/site-packages (from torch>=1.10.0->recbole) (4.12.2)\r\n",
      "Requirement already satisfied: sympy in /opt/conda/lib/python3.10/site-packages (from torch>=1.10.0->recbole) (1.13.3)\r\n",
      "Requirement already satisfied: networkx in /opt/conda/lib/python3.10/site-packages (from torch>=1.10.0->recbole) (3.3)\r\n",
      "Requirement already satisfied: jinja2 in /opt/conda/lib/python3.10/site-packages (from torch>=1.10.0->recbole) (3.1.4)\r\n",
      "Requirement already satisfied: fsspec in /opt/conda/lib/python3.10/site-packages (from torch>=1.10.0->recbole) (2024.6.1)\r\n",
      "Requirement already satisfied: attrs>=22.2.0 in /opt/conda/lib/python3.10/site-packages (from jsonschema->ray) (23.2.0)\r\n",
      "Requirement already satisfied: jsonschema-specifications>=2023.03.6 in /opt/conda/lib/python3.10/site-packages (from jsonschema->ray) (2023.12.1)\r\n",
      "Requirement already satisfied: referencing>=0.28.4 in /opt/conda/lib/python3.10/site-packages (from jsonschema->ray) (0.35.1)\r\n",
      "Requirement already satisfied: rpds-py>=0.7.1 in /opt/conda/lib/python3.10/site-packages (from jsonschema->ray) (0.18.1)\r\n",
      "Requirement already satisfied: pyparsing!=3.0.5,>=2.0.2 in /opt/conda/lib/python3.10/site-packages (from packaging->mamba-ssm) (3.1.2)\r\n",
      "Requirement already satisfied: charset-normalizer<4,>=2 in /opt/conda/lib/python3.10/site-packages (from requests->ray) (3.3.2)\r\n",
      "Requirement already satisfied: idna<4,>=2.5 in /opt/conda/lib/python3.10/site-packages (from requests->ray) (3.7)\r\n",
      "Requirement already satisfied: urllib3<3,>=1.21.1 in /opt/conda/lib/python3.10/site-packages (from requests->ray) (1.26.18)\r\n",
      "Requirement already satisfied: certifi>=2017.4.17 in /opt/conda/lib/python3.10/site-packages (from requests->ray) (2024.8.30)\r\n",
      "Requirement already satisfied: huggingface-hub<1.0,>=0.23.2 in /opt/conda/lib/python3.10/site-packages (from transformers->mamba-ssm) (0.25.1)\r\n",
      "Requirement already satisfied: regex!=2019.12.17 in /opt/conda/lib/python3.10/site-packages (from transformers->mamba-ssm) (2024.5.15)\r\n",
      "Requirement already satisfied: safetensors>=0.4.1 in /opt/conda/lib/python3.10/site-packages (from transformers->mamba-ssm) (0.4.5)\r\n",
      "Requirement already satisfied: tokenizers<0.21,>=0.20 in /opt/conda/lib/python3.10/site-packages (from transformers->mamba-ssm) (0.20.0)\r\n",
      "Requirement already satisfied: MarkupSafe>=2.1.1 in /opt/conda/lib/python3.10/site-packages (from werkzeug>=1.0.1->tensorboard>=2.5.0->recbole) (2.1.5)\r\n",
      "Requirement already satisfied: mpmath<1.4,>=1.1.0 in /opt/conda/lib/python3.10/site-packages (from sympy->torch>=1.10.0->recbole) (1.3.0)\r\n",
      "Downloading recbole-1.2.0-py3-none-any.whl (2.1 MB)\r\n",
      "\u001b[2K   \u001b[90m━━━━━━━━━━━━━━━━━━━━━━━━━━━━━━━━━━━━━━━━\u001b[0m \u001b[32m2.1/2.1 MB\u001b[0m \u001b[31m32.1 MB/s\u001b[0m eta \u001b[36m0:00:00\u001b[0m\r\n",
      "\u001b[?25hDownloading colorama-0.4.4-py2.py3-none-any.whl (16 kB)\r\n",
      "Downloading colorlog-4.7.2-py2.py3-none-any.whl (10 kB)\r\n",
      "Downloading kmeans_pytorch-0.3-py3-none-any.whl (4.4 kB)\r\n",
      "Downloading thop-0.1.1.post2209072238-py3-none-any.whl (15 kB)\r\n",
      "Downloading einops-0.8.0-py3-none-any.whl (43 kB)\r\n",
      "\u001b[2K   \u001b[90m━━━━━━━━━━━━━━━━━━━━━━━━━━━━━━━━━━━━━━━━\u001b[0m \u001b[32m43.2/43.2 kB\u001b[0m \u001b[31m3.1 MB/s\u001b[0m eta \u001b[36m0:00:00\u001b[0m\r\n",
      "\u001b[?25hDownloading triton-3.1.0-cp310-cp310-manylinux_2_17_x86_64.manylinux2014_x86_64.whl (209.5 MB)\r\n",
      "\u001b[2K   \u001b[90m━━━━━━━━━━━━━━━━━━━━━━━━━━━━━━━━━━━━━━━━\u001b[0m \u001b[32m209.5/209.5 MB\u001b[0m \u001b[31m7.8 MB/s\u001b[0m eta \u001b[36m0:00:00\u001b[0m\r\n",
      "\u001b[?25hBuilding wheels for collected packages: mamba-ssm\r\n",
      "  Building wheel for mamba-ssm (setup.py) ... \u001b[?25l-\b \b\\\b \b|\b \bdone\r\n",
      "\u001b[?25h  Created wheel for mamba-ssm: filename=mamba_ssm-2.2.2-cp310-cp310-linux_x86_64.whl size=323998290 sha256=a658a5438dbe9fb3a53799d7d9f4714ca09225769c24ec04a403728ac7d1c69e\r\n",
      "  Stored in directory: /root/.cache/pip/wheels/57/7c/90/9f963468ecc3791e36e388f9e7b4a4e1e3f90fbb340055aa4d\r\n",
      "Successfully built mamba-ssm\r\n",
      "Installing collected packages: colorlog, triton, kmeans-pytorch, einops, colorama, thop, recbole, mamba-ssm\r\n",
      "  Attempting uninstall: colorlog\r\n",
      "    Found existing installation: colorlog 6.8.2\r\n",
      "    Uninstalling colorlog-6.8.2:\r\n",
      "      Successfully uninstalled colorlog-6.8.2\r\n",
      "  Attempting uninstall: colorama\r\n",
      "    Found existing installation: colorama 0.4.6\r\n",
      "    Uninstalling colorama-0.4.6:\r\n",
      "      Successfully uninstalled colorama-0.4.6\r\n",
      "\u001b[31mERROR: pip's dependency resolver does not currently take into account all the packages that are installed. This behaviour is the source of the following dependency conflicts.\r\n",
      "bayesian-optimization 1.5.1 requires colorama<0.5.0,>=0.4.6, but you have colorama 0.4.4 which is incompatible.\u001b[0m\u001b[31m\r\n",
      "\u001b[0mSuccessfully installed colorama-0.4.4 colorlog-4.7.2 einops-0.8.0 kmeans-pytorch-0.3 mamba-ssm-2.2.2 recbole-1.2.0 thop-0.1.1.post2209072238 triton-3.1.0\r\n"
     ]
    }
   ],
   "source": [
    "!pip install recbole mamba-ssm ray kmeans-pytorch"
   ]
  },
  {
   "cell_type": "code",
   "execution_count": 3,
   "id": "7db32689",
   "metadata": {
    "execution": {
     "iopub.execute_input": "2024-11-11T10:32:21.985447Z",
     "iopub.status.busy": "2024-11-11T10:32:21.985091Z",
     "iopub.status.idle": "2024-11-11T10:32:24.434825Z",
     "shell.execute_reply": "2024-11-11T10:32:24.433391Z"
    },
    "papermill": {
     "duration": 2.471523,
     "end_time": "2024-11-11T10:32:24.437265",
     "exception": false,
     "start_time": "2024-11-11T10:32:21.965742",
     "status": "completed"
    },
    "tags": []
   },
   "outputs": [],
   "source": [
    "import pandas as pd\n",
    "import numpy as np\n",
    "import torch\n",
    "import time"
   ]
  },
  {
   "cell_type": "markdown",
   "id": "f3562391",
   "metadata": {
    "papermill": {
     "duration": 0.017285,
     "end_time": "2024-11-11T10:32:24.473090",
     "exception": false,
     "start_time": "2024-11-11T10:32:24.455805",
     "status": "completed"
    },
    "tags": []
   },
   "source": [
    "# Data preparation"
   ]
  },
  {
   "cell_type": "code",
   "execution_count": 4,
   "id": "dce7ef0c",
   "metadata": {
    "execution": {
     "iopub.execute_input": "2024-11-11T10:32:24.509809Z",
     "iopub.status.busy": "2024-11-11T10:32:24.508857Z",
     "iopub.status.idle": "2024-11-11T10:32:27.719962Z",
     "shell.execute_reply": "2024-11-11T10:32:27.718716Z"
    },
    "papermill": {
     "duration": 3.232308,
     "end_time": "2024-11-11T10:32:27.722783",
     "exception": false,
     "start_time": "2024-11-11T10:32:24.490475",
     "status": "completed"
    },
    "tags": []
   },
   "outputs": [
    {
     "name": "stdout",
     "output_type": "stream",
     "text": [
      "/kaggle/working\n",
      "/kaggle/working/h-and-m-run-file\n"
     ]
    }
   ],
   "source": [
    "%cd /kaggle/working\n",
    "%cp -r /kaggle/input/h-and-m-run-file ./\n",
    "%cd h-and-m-run-file\n",
    "%mkdir dataset\n",
    "%mkdir dataset/hm"
   ]
  },
  {
   "cell_type": "code",
   "execution_count": 5,
   "id": "84e9e57d",
   "metadata": {
    "execution": {
     "iopub.execute_input": "2024-11-11T10:32:27.760843Z",
     "iopub.status.busy": "2024-11-11T10:32:27.760466Z",
     "iopub.status.idle": "2024-11-11T10:33:38.421247Z",
     "shell.execute_reply": "2024-11-11T10:33:38.420288Z"
    },
    "papermill": {
     "duration": 70.682689,
     "end_time": "2024-11-11T10:33:38.423769",
     "exception": false,
     "start_time": "2024-11-11T10:32:27.741080",
     "status": "completed"
    },
    "tags": []
   },
   "outputs": [],
   "source": [
    "dtype={\"article_id\": str}\n",
    "inter = pd.read_csv(\"/kaggle/input/h-and-m-personalized-fashion-recommendations/transactions_train.csv\", dtype=dtype)"
   ]
  },
  {
   "cell_type": "code",
   "execution_count": 6,
   "id": "5735aef6",
   "metadata": {
    "execution": {
     "iopub.execute_input": "2024-11-11T10:33:38.461280Z",
     "iopub.status.busy": "2024-11-11T10:33:38.460948Z",
     "iopub.status.idle": "2024-11-11T10:33:44.381386Z",
     "shell.execute_reply": "2024-11-11T10:33:44.380502Z"
    },
    "papermill": {
     "duration": 5.941933,
     "end_time": "2024-11-11T10:33:44.383775",
     "exception": false,
     "start_time": "2024-11-11T10:33:38.441842",
     "status": "completed"
    },
    "tags": []
   },
   "outputs": [],
   "source": [
    "inter[\"timestamp\"] = pd.to_datetime(inter[\"t_dat\"]).astype(int) / 10 ** 9\n",
    "data = inter[inter[\"timestamp\"] > inter[\"timestamp\"].quantile(1-1/64)][[\"customer_id\", \"article_id\", \"timestamp\"]]"
   ]
  },
  {
   "cell_type": "code",
   "execution_count": 7,
   "id": "f9336fb9",
   "metadata": {
    "execution": {
     "iopub.execute_input": "2024-11-11T10:33:44.422819Z",
     "iopub.status.busy": "2024-11-11T10:33:44.422011Z",
     "iopub.status.idle": "2024-11-11T10:33:48.344246Z",
     "shell.execute_reply": "2024-11-11T10:33:48.343200Z"
    },
    "papermill": {
     "duration": 3.944119,
     "end_time": "2024-11-11T10:33:48.346624",
     "exception": false,
     "start_time": "2024-11-11T10:33:44.402505",
     "status": "completed"
    },
    "tags": []
   },
   "outputs": [],
   "source": [
    "user_seqs = data.groupby(\"customer_id\")[\"article_id\"].agg(list).reset_index()[\"customer_id\"]"
   ]
  },
  {
   "cell_type": "code",
   "execution_count": 8,
   "id": "defd038a",
   "metadata": {
    "execution": {
     "iopub.execute_input": "2024-11-11T10:33:48.383738Z",
     "iopub.status.busy": "2024-11-11T10:33:48.383396Z",
     "iopub.status.idle": "2024-11-11T10:33:49.457208Z",
     "shell.execute_reply": "2024-11-11T10:33:49.455715Z"
    },
    "papermill": {
     "duration": 1.095922,
     "end_time": "2024-11-11T10:33:49.460773",
     "exception": false,
     "start_time": "2024-11-11T10:33:48.364851",
     "status": "completed"
    },
    "tags": []
   },
   "outputs": [],
   "source": [
    "from sklearn.model_selection import train_test_split\n",
    "\n",
    "train_ids, test_ids = train_test_split(user_seqs, test_size=0.2, random_state=42)"
   ]
  },
  {
   "cell_type": "code",
   "execution_count": 9,
   "id": "cf0a9ebd",
   "metadata": {
    "execution": {
     "iopub.execute_input": "2024-11-11T10:33:49.501908Z",
     "iopub.status.busy": "2024-11-11T10:33:49.501382Z",
     "iopub.status.idle": "2024-11-11T10:33:49.630822Z",
     "shell.execute_reply": "2024-11-11T10:33:49.629278Z"
    },
    "papermill": {
     "duration": 0.150933,
     "end_time": "2024-11-11T10:33:49.633287",
     "exception": false,
     "start_time": "2024-11-11T10:33:49.482354",
     "status": "completed"
    },
    "tags": []
   },
   "outputs": [],
   "source": [
    "train_df = data[data[\"customer_id\"].isin(train_ids)]\n",
    "test_df = data[data[\"customer_id\"].isin(test_ids)]"
   ]
  },
  {
   "cell_type": "code",
   "execution_count": 10,
   "id": "710c90f7",
   "metadata": {
    "execution": {
     "iopub.execute_input": "2024-11-11T10:33:49.671376Z",
     "iopub.status.busy": "2024-11-11T10:33:49.671029Z",
     "iopub.status.idle": "2024-11-11T10:33:49.675638Z",
     "shell.execute_reply": "2024-11-11T10:33:49.674790Z"
    },
    "papermill": {
     "duration": 0.026216,
     "end_time": "2024-11-11T10:33:49.677563",
     "exception": false,
     "start_time": "2024-11-11T10:33:49.651347",
     "status": "completed"
    },
    "tags": []
   },
   "outputs": [],
   "source": [
    "train_df.columns = [\"user_id:token\", \"item_id:token\", \"timestamp:float\"]"
   ]
  },
  {
   "cell_type": "code",
   "execution_count": 11,
   "id": "236e5df1",
   "metadata": {
    "execution": {
     "iopub.execute_input": "2024-11-11T10:33:49.714107Z",
     "iopub.status.busy": "2024-11-11T10:33:49.713825Z",
     "iopub.status.idle": "2024-11-11T10:33:51.685639Z",
     "shell.execute_reply": "2024-11-11T10:33:51.684736Z"
    },
    "papermill": {
     "duration": 1.992383,
     "end_time": "2024-11-11T10:33:51.687996",
     "exception": false,
     "start_time": "2024-11-11T10:33:49.695613",
     "status": "completed"
    },
    "tags": []
   },
   "outputs": [],
   "source": [
    "train_df.to_csv(\"dataset/hm/hm.inter\", sep=\"\\t\", index=False)"
   ]
  },
  {
   "cell_type": "markdown",
   "id": "4ffbaa4c",
   "metadata": {
    "papermill": {
     "duration": 0.017222,
     "end_time": "2024-11-11T10:33:51.722905",
     "exception": false,
     "start_time": "2024-11-11T10:33:51.705683",
     "status": "completed"
    },
    "tags": []
   },
   "source": [
    "# Model training"
   ]
  },
  {
   "cell_type": "code",
   "execution_count": 12,
   "id": "375fdfc2",
   "metadata": {
    "execution": {
     "iopub.execute_input": "2024-11-11T10:33:51.761597Z",
     "iopub.status.busy": "2024-11-11T10:33:51.761263Z",
     "iopub.status.idle": "2024-11-11T10:34:04.428774Z",
     "shell.execute_reply": "2024-11-11T10:34:04.427825Z"
    },
    "papermill": {
     "duration": 12.688719,
     "end_time": "2024-11-11T10:34:04.431325",
     "exception": false,
     "start_time": "2024-11-11T10:33:51.742606",
     "status": "completed"
    },
    "tags": []
   },
   "outputs": [],
   "source": [
    "import sys\n",
    "import os\n",
    "import logging\n",
    "import argparse\n",
    "from logging import getLogger\n",
    "from recbole.utils import init_logger, init_seed\n",
    "from recbole.trainer import Trainer\n",
    "from mamba4rec import Mamba4Rec\n",
    "# from mamba4rec_attr import Mamba4Rec\n",
    "from recbole.config import Config\n",
    "from recbole.data import create_dataset, data_preparation\n",
    "from recbole.data.transform import construct_transform\n",
    "from recbole.utils import (\n",
    "    init_logger,\n",
    "    get_model,\n",
    "    get_trainer,\n",
    "    init_seed,\n",
    "    set_color,\n",
    "    get_flops,\n",
    "    get_environment,\n",
    ")"
   ]
  },
  {
   "cell_type": "code",
   "execution_count": 13,
   "id": "f519dda3",
   "metadata": {
    "execution": {
     "iopub.execute_input": "2024-11-11T10:34:04.468756Z",
     "iopub.status.busy": "2024-11-11T10:34:04.468179Z",
     "iopub.status.idle": "2024-11-11T10:52:00.778753Z",
     "shell.execute_reply": "2024-11-11T10:52:00.777767Z"
    },
    "papermill": {
     "duration": 1076.35258,
     "end_time": "2024-11-11T10:52:00.801908",
     "exception": false,
     "start_time": "2024-11-11T10:34:04.449328",
     "status": "completed"
    },
    "tags": []
   },
   "outputs": [
    {
     "name": "stdout",
     "output_type": "stream",
     "text": [
      "The running environment of this training is as follows:\n",
      "+-------------+----------------+\n",
      "| Environment |     Usage      |\n",
      "+=============+================+\n",
      "| CPU         |     2.50 %     |\n",
      "+-------------+----------------+\n",
      "| GPU         | 2.06 G/14.74 G |\n",
      "+-------------+----------------+\n",
      "| Memory      | 4.76 G/31.36 G |\n",
      "+-------------+----------------+\n",
      "best valid : OrderedDict([('map@10', 0.1472), ('map@12', 0.1481), ('ndcg@10', 0.1664), ('ndcg@12', 0.1694), ('mrr@10', 0.1472), ('mrr@12', 0.1481)])\n",
      "test result: OrderedDict([('map@10', 0.1823), ('map@12', 0.1833), ('ndcg@10', 0.2017), ('ndcg@12', 0.2049), ('mrr@10', 0.1823), ('mrr@12', 0.1833)])\n"
     ]
    }
   ],
   "source": [
    "config = Config(model=Mamba4Rec, config_file_list=[\"config_hm.yaml\"])\n",
    "init_seed(config['seed'], config['reproducibility'])\n",
    "\n",
    "# logger initialization\n",
    "init_logger(config)\n",
    "logger = getLogger()\n",
    "logger.info(sys.argv)\n",
    "logger.info(config)\n",
    "\n",
    "# dataset filtering\n",
    "dataset = create_dataset(config)\n",
    "logger.info(dataset)\n",
    "\n",
    "# dataset splitting\n",
    "train_data, valid_data, test_data = data_preparation(config, dataset)\n",
    "\n",
    "# model loading and initialization\n",
    "init_seed(config[\"seed\"] + config[\"local_rank\"], config[\"reproducibility\"])\n",
    "model = Mamba4Rec(config, train_data.dataset).to(config['device'])\n",
    "logger.info(model)\n",
    "\n",
    "transform = construct_transform(config)\n",
    "flops = get_flops(model, dataset, config[\"device\"], logger, transform)\n",
    "logger.info(set_color(\"FLOPs\", \"blue\") + f\": {flops}\")\n",
    "\n",
    "# trainer loading and initialization\n",
    "trainer = Trainer(config, model)\n",
    "\n",
    "\n",
    "if os.path.exists(\"saved/checkpoint.pth\"):\n",
    "    trainer.resume_checkpoint(\"saved/checkpoint.pth\")\n",
    "# model training\n",
    "best_valid_score, best_valid_result = trainer.fit(\n",
    "    train_data, valid_data, show_progress=False,\n",
    "    saved=True, verbose=True\n",
    ")\n",
    "\n",
    "# trainer.eval_collector.data_collect(train_data)\n",
    "# model evaluation\n",
    "test_result = trainer.evaluate(\n",
    "    test_data, show_progress=False\n",
    ")\n",
    "\n",
    "environment_tb = get_environment(config)\n",
    "print(\n",
    "    \"The running environment of this training is as follows:\\n\"\n",
    "    + environment_tb.draw()\n",
    ")\n",
    "\n",
    "print(set_color(\"best valid \", \"yellow\") + f\": {best_valid_result}\")\n",
    "print(set_color(\"test result\", \"yellow\") + f\": {test_result}\")"
   ]
  },
  {
   "cell_type": "markdown",
   "id": "badbd18b",
   "metadata": {
    "papermill": {
     "duration": 0.017846,
     "end_time": "2024-11-11T10:52:00.837717",
     "exception": false,
     "start_time": "2024-11-11T10:52:00.819871",
     "status": "completed"
    },
    "tags": []
   },
   "source": [
    "# Model analysis"
   ]
  },
  {
   "cell_type": "markdown",
   "id": "c96f3974",
   "metadata": {
    "papermill": {
     "duration": 0.0177,
     "end_time": "2024-11-11T10:52:00.873381",
     "exception": false,
     "start_time": "2024-11-11T10:52:00.855681",
     "status": "completed"
    },
    "tags": []
   },
   "source": [
    "## Item similarity"
   ]
  },
  {
   "cell_type": "code",
   "execution_count": 14,
   "id": "638b1e4d",
   "metadata": {
    "execution": {
     "iopub.execute_input": "2024-11-11T10:52:00.911663Z",
     "iopub.status.busy": "2024-11-11T10:52:00.910873Z",
     "iopub.status.idle": "2024-11-11T10:52:02.017814Z",
     "shell.execute_reply": "2024-11-11T10:52:02.016942Z"
    },
    "papermill": {
     "duration": 1.128338,
     "end_time": "2024-11-11T10:52:02.020094",
     "exception": false,
     "start_time": "2024-11-11T10:52:00.891756",
     "status": "completed"
    },
    "tags": []
   },
   "outputs": [],
   "source": [
    "item = pd.read_csv(\"/kaggle/input/h-and-m-personalized-fashion-recommendations/articles.csv\", dtype=dtype)\n",
    "item = item[item[\"article_id\"].isin(data[\"article_id\"])].reset_index()"
   ]
  },
  {
   "cell_type": "code",
   "execution_count": 15,
   "id": "68faa00a",
   "metadata": {
    "execution": {
     "iopub.execute_input": "2024-11-11T10:52:02.058028Z",
     "iopub.status.busy": "2024-11-11T10:52:02.057682Z",
     "iopub.status.idle": "2024-11-11T10:52:02.083020Z",
     "shell.execute_reply": "2024-11-11T10:52:02.082183Z"
    },
    "papermill": {
     "duration": 0.04649,
     "end_time": "2024-11-11T10:52:02.085056",
     "exception": false,
     "start_time": "2024-11-11T10:52:02.038566",
     "status": "completed"
    },
    "tags": []
   },
   "outputs": [
    {
     "data": {
      "text/html": [
       "<div>\n",
       "<style scoped>\n",
       "    .dataframe tbody tr th:only-of-type {\n",
       "        vertical-align: middle;\n",
       "    }\n",
       "\n",
       "    .dataframe tbody tr th {\n",
       "        vertical-align: top;\n",
       "    }\n",
       "\n",
       "    .dataframe thead th {\n",
       "        text-align: right;\n",
       "    }\n",
       "</style>\n",
       "<table border=\"1\" class=\"dataframe\">\n",
       "  <thead>\n",
       "    <tr style=\"text-align: right;\">\n",
       "      <th></th>\n",
       "      <th>index</th>\n",
       "      <th>article_id</th>\n",
       "      <th>product_code</th>\n",
       "      <th>prod_name</th>\n",
       "      <th>product_type_no</th>\n",
       "      <th>product_type_name</th>\n",
       "      <th>product_group_name</th>\n",
       "      <th>graphical_appearance_no</th>\n",
       "      <th>graphical_appearance_name</th>\n",
       "      <th>colour_group_code</th>\n",
       "      <th>...</th>\n",
       "      <th>department_name</th>\n",
       "      <th>index_code</th>\n",
       "      <th>index_name</th>\n",
       "      <th>index_group_no</th>\n",
       "      <th>index_group_name</th>\n",
       "      <th>section_no</th>\n",
       "      <th>section_name</th>\n",
       "      <th>garment_group_no</th>\n",
       "      <th>garment_group_name</th>\n",
       "      <th>detail_desc</th>\n",
       "    </tr>\n",
       "  </thead>\n",
       "  <tbody>\n",
       "    <tr>\n",
       "      <th>0</th>\n",
       "      <td>1</td>\n",
       "      <td>0108775044</td>\n",
       "      <td>108775</td>\n",
       "      <td>Strap top</td>\n",
       "      <td>253</td>\n",
       "      <td>Vest top</td>\n",
       "      <td>Garment Upper body</td>\n",
       "      <td>1010016</td>\n",
       "      <td>Solid</td>\n",
       "      <td>10</td>\n",
       "      <td>...</td>\n",
       "      <td>Jersey Basic</td>\n",
       "      <td>A</td>\n",
       "      <td>Ladieswear</td>\n",
       "      <td>1</td>\n",
       "      <td>Ladieswear</td>\n",
       "      <td>16</td>\n",
       "      <td>Womens Everyday Basics</td>\n",
       "      <td>1002</td>\n",
       "      <td>Jersey Basic</td>\n",
       "      <td>Jersey top with narrow shoulder straps.</td>\n",
       "    </tr>\n",
       "    <tr>\n",
       "      <th>1</th>\n",
       "      <td>6</td>\n",
       "      <td>0111565001</td>\n",
       "      <td>111565</td>\n",
       "      <td>20 den 1p Stockings</td>\n",
       "      <td>304</td>\n",
       "      <td>Underwear Tights</td>\n",
       "      <td>Socks &amp; Tights</td>\n",
       "      <td>1010016</td>\n",
       "      <td>Solid</td>\n",
       "      <td>9</td>\n",
       "      <td>...</td>\n",
       "      <td>Tights basic</td>\n",
       "      <td>B</td>\n",
       "      <td>Lingeries/Tights</td>\n",
       "      <td>1</td>\n",
       "      <td>Ladieswear</td>\n",
       "      <td>62</td>\n",
       "      <td>Womens Nightwear, Socks &amp; Tigh</td>\n",
       "      <td>1021</td>\n",
       "      <td>Socks and Tights</td>\n",
       "      <td>Semi shiny nylon stockings with a wide, reinfo...</td>\n",
       "    </tr>\n",
       "    <tr>\n",
       "      <th>2</th>\n",
       "      <td>8</td>\n",
       "      <td>0111586001</td>\n",
       "      <td>111586</td>\n",
       "      <td>Shape Up 30 den 1p Tights</td>\n",
       "      <td>273</td>\n",
       "      <td>Leggings/Tights</td>\n",
       "      <td>Garment Lower body</td>\n",
       "      <td>1010016</td>\n",
       "      <td>Solid</td>\n",
       "      <td>9</td>\n",
       "      <td>...</td>\n",
       "      <td>Tights basic</td>\n",
       "      <td>B</td>\n",
       "      <td>Lingeries/Tights</td>\n",
       "      <td>1</td>\n",
       "      <td>Ladieswear</td>\n",
       "      <td>62</td>\n",
       "      <td>Womens Nightwear, Socks &amp; Tigh</td>\n",
       "      <td>1021</td>\n",
       "      <td>Socks and Tights</td>\n",
       "      <td>Tights with built-in support to lift the botto...</td>\n",
       "    </tr>\n",
       "    <tr>\n",
       "      <th>3</th>\n",
       "      <td>9</td>\n",
       "      <td>0111593001</td>\n",
       "      <td>111593</td>\n",
       "      <td>Support 40 den 1p Tights</td>\n",
       "      <td>304</td>\n",
       "      <td>Underwear Tights</td>\n",
       "      <td>Socks &amp; Tights</td>\n",
       "      <td>1010016</td>\n",
       "      <td>Solid</td>\n",
       "      <td>9</td>\n",
       "      <td>...</td>\n",
       "      <td>Tights basic</td>\n",
       "      <td>B</td>\n",
       "      <td>Lingeries/Tights</td>\n",
       "      <td>1</td>\n",
       "      <td>Ladieswear</td>\n",
       "      <td>62</td>\n",
       "      <td>Womens Nightwear, Socks &amp; Tigh</td>\n",
       "      <td>1021</td>\n",
       "      <td>Socks and Tights</td>\n",
       "      <td>Semi shiny tights that shape the tummy, thighs...</td>\n",
       "    </tr>\n",
       "    <tr>\n",
       "      <th>4</th>\n",
       "      <td>10</td>\n",
       "      <td>0111609001</td>\n",
       "      <td>111609</td>\n",
       "      <td>200 den 1p Tights</td>\n",
       "      <td>304</td>\n",
       "      <td>Underwear Tights</td>\n",
       "      <td>Socks &amp; Tights</td>\n",
       "      <td>1010016</td>\n",
       "      <td>Solid</td>\n",
       "      <td>9</td>\n",
       "      <td>...</td>\n",
       "      <td>Tights basic</td>\n",
       "      <td>B</td>\n",
       "      <td>Lingeries/Tights</td>\n",
       "      <td>1</td>\n",
       "      <td>Ladieswear</td>\n",
       "      <td>62</td>\n",
       "      <td>Womens Nightwear, Socks &amp; Tigh</td>\n",
       "      <td>1021</td>\n",
       "      <td>Socks and Tights</td>\n",
       "      <td>Opaque matt tights. 200 denier.</td>\n",
       "    </tr>\n",
       "  </tbody>\n",
       "</table>\n",
       "<p>5 rows × 26 columns</p>\n",
       "</div>"
      ],
      "text/plain": [
       "   index  article_id  product_code                  prod_name  \\\n",
       "0      1  0108775044        108775                  Strap top   \n",
       "1      6  0111565001        111565        20 den 1p Stockings   \n",
       "2      8  0111586001        111586  Shape Up 30 den 1p Tights   \n",
       "3      9  0111593001        111593   Support 40 den 1p Tights   \n",
       "4     10  0111609001        111609          200 den 1p Tights   \n",
       "\n",
       "   product_type_no product_type_name  product_group_name  \\\n",
       "0              253          Vest top  Garment Upper body   \n",
       "1              304  Underwear Tights      Socks & Tights   \n",
       "2              273   Leggings/Tights  Garment Lower body   \n",
       "3              304  Underwear Tights      Socks & Tights   \n",
       "4              304  Underwear Tights      Socks & Tights   \n",
       "\n",
       "   graphical_appearance_no graphical_appearance_name  colour_group_code  ...  \\\n",
       "0                  1010016                     Solid                 10  ...   \n",
       "1                  1010016                     Solid                  9  ...   \n",
       "2                  1010016                     Solid                  9  ...   \n",
       "3                  1010016                     Solid                  9  ...   \n",
       "4                  1010016                     Solid                  9  ...   \n",
       "\n",
       "  department_name  index_code        index_name  index_group_no  \\\n",
       "0    Jersey Basic           A        Ladieswear               1   \n",
       "1    Tights basic           B  Lingeries/Tights               1   \n",
       "2    Tights basic           B  Lingeries/Tights               1   \n",
       "3    Tights basic           B  Lingeries/Tights               1   \n",
       "4    Tights basic           B  Lingeries/Tights               1   \n",
       "\n",
       "  index_group_name  section_no                    section_name  \\\n",
       "0       Ladieswear          16          Womens Everyday Basics   \n",
       "1       Ladieswear          62  Womens Nightwear, Socks & Tigh   \n",
       "2       Ladieswear          62  Womens Nightwear, Socks & Tigh   \n",
       "3       Ladieswear          62  Womens Nightwear, Socks & Tigh   \n",
       "4       Ladieswear          62  Womens Nightwear, Socks & Tigh   \n",
       "\n",
       "  garment_group_no garment_group_name  \\\n",
       "0             1002       Jersey Basic   \n",
       "1             1021   Socks and Tights   \n",
       "2             1021   Socks and Tights   \n",
       "3             1021   Socks and Tights   \n",
       "4             1021   Socks and Tights   \n",
       "\n",
       "                                         detail_desc  \n",
       "0            Jersey top with narrow shoulder straps.  \n",
       "1  Semi shiny nylon stockings with a wide, reinfo...  \n",
       "2  Tights with built-in support to lift the botto...  \n",
       "3  Semi shiny tights that shape the tummy, thighs...  \n",
       "4                    Opaque matt tights. 200 denier.  \n",
       "\n",
       "[5 rows x 26 columns]"
      ]
     },
     "execution_count": 15,
     "metadata": {},
     "output_type": "execute_result"
    }
   ],
   "source": [
    "item.head()"
   ]
  },
  {
   "cell_type": "code",
   "execution_count": 16,
   "id": "38f511fd",
   "metadata": {
    "execution": {
     "iopub.execute_input": "2024-11-11T10:52:02.124384Z",
     "iopub.status.busy": "2024-11-11T10:52:02.123851Z",
     "iopub.status.idle": "2024-11-11T10:52:02.138708Z",
     "shell.execute_reply": "2024-11-11T10:52:02.137811Z"
    },
    "papermill": {
     "duration": 0.037215,
     "end_time": "2024-11-11T10:52:02.140736",
     "exception": false,
     "start_time": "2024-11-11T10:52:02.103521",
     "status": "completed"
    },
    "tags": []
   },
   "outputs": [
    {
     "name": "stdout",
     "output_type": "stream",
     "text": [
      "Number of total items: 22640\n",
      "Number of valid items: 6837\n"
     ]
    }
   ],
   "source": [
    "print(f\"Number of total items: {item['article_id'].nunique()}\")\n",
    "print(f\"Number of valid items: {dataset.item_num-1}\")"
   ]
  },
  {
   "cell_type": "code",
   "execution_count": 17,
   "id": "38ba65f1",
   "metadata": {
    "execution": {
     "iopub.execute_input": "2024-11-11T10:52:02.182288Z",
     "iopub.status.busy": "2024-11-11T10:52:02.181965Z",
     "iopub.status.idle": "2024-11-11T10:52:04.471261Z",
     "shell.execute_reply": "2024-11-11T10:52:04.469966Z"
    },
    "papermill": {
     "duration": 2.312029,
     "end_time": "2024-11-11T10:52:04.473907",
     "exception": false,
     "start_time": "2024-11-11T10:52:02.161878",
     "status": "completed"
    },
    "tags": []
   },
   "outputs": [],
   "source": [
    "item_str = item.select_dtypes(\"object\")\n",
    "item_str[\"description\"] = item_str.drop(columns=[\"article_id\", \"index_code\"]).apply(lambda x: ' '.join(x.dropna()), axis=1)\n",
    "item = item_str[[\"article_id\", \"description\"]]"
   ]
  },
  {
   "cell_type": "code",
   "execution_count": 18,
   "id": "12c8ecbe",
   "metadata": {
    "execution": {
     "iopub.execute_input": "2024-11-11T10:52:04.517030Z",
     "iopub.status.busy": "2024-11-11T10:52:04.516706Z",
     "iopub.status.idle": "2024-11-11T10:52:05.234403Z",
     "shell.execute_reply": "2024-11-11T10:52:05.233505Z"
    },
    "papermill": {
     "duration": 0.740972,
     "end_time": "2024-11-11T10:52:05.236911",
     "exception": false,
     "start_time": "2024-11-11T10:52:04.495939",
     "status": "completed"
    },
    "tags": []
   },
   "outputs": [],
   "source": [
    "item = item.sort_values(\"article_id\")\n",
    "item_mapper = {item[\"article_id\"].iloc[i]: i for i in range(item[\"article_id\"].nunique())}\n",
    "item_inv_mapper = {i: item[\"article_id\"].iloc[i] for i in range(item[\"article_id\"].nunique())}"
   ]
  },
  {
   "cell_type": "code",
   "execution_count": 19,
   "id": "2cf377a3",
   "metadata": {
    "execution": {
     "iopub.execute_input": "2024-11-11T10:52:05.276904Z",
     "iopub.status.busy": "2024-11-11T10:52:05.276488Z",
     "iopub.status.idle": "2024-11-11T10:52:06.885585Z",
     "shell.execute_reply": "2024-11-11T10:52:06.884581Z"
    },
    "papermill": {
     "duration": 1.631969,
     "end_time": "2024-11-11T10:52:06.888244",
     "exception": false,
     "start_time": "2024-11-11T10:52:05.256275",
     "status": "completed"
    },
    "tags": []
   },
   "outputs": [],
   "source": [
    "from sklearn.feature_extraction.text import TfidfVectorizer\n",
    "from sklearn.decomposition import TruncatedSVD\n",
    "from scipy.sparse import csr_matrix\n",
    "from sklearn.metrics.pairwise import cosine_similarity\n",
    "\n",
    "vect = TfidfVectorizer()\n",
    "tfidf = vect.fit_transform(item[\"description\"])\n",
    "\n",
    "X = csr_matrix(tfidf)\n",
    "\n",
    "svd = TruncatedSVD(n_components=16, n_iter=3, random_state=42)\n",
    "X = svd.fit_transform(X)"
   ]
  },
  {
   "cell_type": "code",
   "execution_count": 20,
   "id": "3c667e55",
   "metadata": {
    "execution": {
     "iopub.execute_input": "2024-11-11T10:52:06.941646Z",
     "iopub.status.busy": "2024-11-11T10:52:06.941280Z",
     "iopub.status.idle": "2024-11-11T10:52:06.963374Z",
     "shell.execute_reply": "2024-11-11T10:52:06.962550Z"
    },
    "papermill": {
     "duration": 0.044096,
     "end_time": "2024-11-11T10:52:06.965307",
     "exception": false,
     "start_time": "2024-11-11T10:52:06.921211",
     "status": "completed"
    },
    "tags": []
   },
   "outputs": [],
   "source": [
    "valid_articles = dataset.id2token(dataset.iid_field, range(1, dataset.item_num))\n",
    "valid_ids = [item_mapper[item] for item in valid_articles]\n",
    "X_valid = X[valid_ids]\n",
    "valid_mapper = {valid_articles[i]: i for i in range(len(valid_articles))}\n",
    "valid_inv_mapper = {i: valid_articles[i] for i in range(len(valid_articles))}"
   ]
  },
  {
   "cell_type": "code",
   "execution_count": 21,
   "id": "35169f27",
   "metadata": {
    "execution": {
     "iopub.execute_input": "2024-11-11T10:52:07.004279Z",
     "iopub.status.busy": "2024-11-11T10:52:07.003674Z",
     "iopub.status.idle": "2024-11-11T10:52:09.829987Z",
     "shell.execute_reply": "2024-11-11T10:52:09.828632Z"
    },
    "papermill": {
     "duration": 2.850162,
     "end_time": "2024-11-11T10:52:09.834178",
     "exception": false,
     "start_time": "2024-11-11T10:52:06.984016",
     "status": "completed"
    },
    "tags": []
   },
   "outputs": [],
   "source": [
    "sim_cosine_all = cosine_similarity(X, X)\n",
    "sim_cosine_valid = cosine_similarity(X, X_valid)"
   ]
  },
  {
   "cell_type": "markdown",
   "id": "b60dd024",
   "metadata": {
    "papermill": {
     "duration": 0.040138,
     "end_time": "2024-11-11T10:52:09.914956",
     "exception": false,
     "start_time": "2024-11-11T10:52:09.874818",
     "status": "completed"
    },
    "tags": []
   },
   "source": [
    "## Map non-data items to valid items"
   ]
  },
  {
   "cell_type": "code",
   "execution_count": 22,
   "id": "7f22b4a1",
   "metadata": {
    "execution": {
     "iopub.execute_input": "2024-11-11T10:52:09.977663Z",
     "iopub.status.busy": "2024-11-11T10:52:09.977090Z",
     "iopub.status.idle": "2024-11-11T10:52:09.984221Z",
     "shell.execute_reply": "2024-11-11T10:52:09.983374Z"
    },
    "papermill": {
     "duration": 0.031776,
     "end_time": "2024-11-11T10:52:09.986026",
     "exception": false,
     "start_time": "2024-11-11T10:52:09.954250",
     "status": "completed"
    },
    "tags": []
   },
   "outputs": [],
   "source": [
    "from functools import lru_cache\n",
    "from sklearn.metrics.pairwise import cosine_similarity\n",
    "\n",
    "def to_valid_list(item_list):\n",
    "\n",
    "    global convert2valid\n",
    "    @lru_cache(maxsize=2048)  \n",
    "    def convert2valid(item):\n",
    "        item_id = item_mapper[item]\n",
    "        sim_scores = sim_cosine_valid[item_id] # cosine_similarity(X[item_id].reshape(1,-1), X_valid)[0]\n",
    "        sort_indices = np.argsort(-sim_scores)\n",
    "        return valid_inv_mapper[sort_indices[0]]\n",
    "\n",
    "    valid_list = []\n",
    "    for i in range(len(item_list)-1):\n",
    "        if item_list[i] not in valid_articles:\n",
    "            valid_list.append(convert2valid(item_list[i]))\n",
    "        else:\n",
    "            valid_list.append(item_list[i])\n",
    "            \n",
    "    return ['[PAD]'] if len(valid_list) == 0 else valid_list"
   ]
  },
  {
   "cell_type": "code",
   "execution_count": 23,
   "id": "ed32a9bb",
   "metadata": {
    "execution": {
     "iopub.execute_input": "2024-11-11T10:52:10.024918Z",
     "iopub.status.busy": "2024-11-11T10:52:10.024598Z",
     "iopub.status.idle": "2024-11-11T10:52:10.797364Z",
     "shell.execute_reply": "2024-11-11T10:52:10.796474Z"
    },
    "papermill": {
     "duration": 0.794537,
     "end_time": "2024-11-11T10:52:10.799386",
     "exception": false,
     "start_time": "2024-11-11T10:52:10.004849",
     "status": "completed"
    },
    "tags": []
   },
   "outputs": [
    {
     "name": "stdout",
     "output_type": "stream",
     "text": [
      "25667\n"
     ]
    },
    {
     "data": {
      "text/html": [
       "<div>\n",
       "<style scoped>\n",
       "    .dataframe tbody tr th:only-of-type {\n",
       "        vertical-align: middle;\n",
       "    }\n",
       "\n",
       "    .dataframe tbody tr th {\n",
       "        vertical-align: top;\n",
       "    }\n",
       "\n",
       "    .dataframe thead th {\n",
       "        text-align: right;\n",
       "    }\n",
       "</style>\n",
       "<table border=\"1\" class=\"dataframe\">\n",
       "  <thead>\n",
       "    <tr style=\"text-align: right;\">\n",
       "      <th></th>\n",
       "      <th>customer_id</th>\n",
       "      <th>sequence</th>\n",
       "    </tr>\n",
       "  </thead>\n",
       "  <tbody>\n",
       "    <tr>\n",
       "      <th>0</th>\n",
       "      <td>000058a12d5b43e67d225668fa1f8d618c13dc232df0ca...</td>\n",
       "      <td>[0794321007]</td>\n",
       "    </tr>\n",
       "    <tr>\n",
       "      <th>1</th>\n",
       "      <td>00039306476aaf41a07fed942884f16b30abfa83a2a8be...</td>\n",
       "      <td>[0624486001]</td>\n",
       "    </tr>\n",
       "    <tr>\n",
       "      <th>2</th>\n",
       "      <td>001674dc3a5fd1be9256feaecbf7a8a9ebd17232cb2188...</td>\n",
       "      <td>[0909924002, 0806131012, 0893059005, 094450600...</td>\n",
       "    </tr>\n",
       "    <tr>\n",
       "      <th>3</th>\n",
       "      <td>0016df4fbb49288b9ed4a8a0fa3d2f7038fc4ab7f02e3c...</td>\n",
       "      <td>[0863937003]</td>\n",
       "    </tr>\n",
       "    <tr>\n",
       "      <th>4</th>\n",
       "      <td>00194061f3caa80bf10d615bf406bc5959a3bd799e4f21...</td>\n",
       "      <td>[0572998005]</td>\n",
       "    </tr>\n",
       "  </tbody>\n",
       "</table>\n",
       "</div>"
      ],
      "text/plain": [
       "                                         customer_id  \\\n",
       "0  000058a12d5b43e67d225668fa1f8d618c13dc232df0ca...   \n",
       "1  00039306476aaf41a07fed942884f16b30abfa83a2a8be...   \n",
       "2  001674dc3a5fd1be9256feaecbf7a8a9ebd17232cb2188...   \n",
       "3  0016df4fbb49288b9ed4a8a0fa3d2f7038fc4ab7f02e3c...   \n",
       "4  00194061f3caa80bf10d615bf406bc5959a3bd799e4f21...   \n",
       "\n",
       "                                            sequence  \n",
       "0                                       [0794321007]  \n",
       "1                                       [0624486001]  \n",
       "2  [0909924002, 0806131012, 0893059005, 094450600...  \n",
       "3                                       [0863937003]  \n",
       "4                                       [0572998005]  "
      ]
     },
     "execution_count": 23,
     "metadata": {},
     "output_type": "execute_result"
    }
   ],
   "source": [
    "test_sequence = test_df.sort_values(['customer_id', 'timestamp']) \\\n",
    "                        .groupby('customer_id')['article_id'] \\\n",
    "                        .agg(list) \\\n",
    "                        .reset_index()\n",
    "test_sequence.columns = [\"customer_id\", \"sequence\"]\n",
    "print(len(test_sequence))\n",
    "test_sequence.head()"
   ]
  },
  {
   "cell_type": "code",
   "execution_count": 24,
   "id": "46b1ec07",
   "metadata": {
    "execution": {
     "iopub.execute_input": "2024-11-11T10:52:10.841256Z",
     "iopub.status.busy": "2024-11-11T10:52:10.840508Z",
     "iopub.status.idle": "2024-11-11T10:52:16.699557Z",
     "shell.execute_reply": "2024-11-11T10:52:16.698363Z"
    },
    "papermill": {
     "duration": 5.882118,
     "end_time": "2024-11-11T10:52:16.702057",
     "exception": false,
     "start_time": "2024-11-11T10:52:10.819939",
     "status": "completed"
    },
    "tags": []
   },
   "outputs": [],
   "source": [
    "test_sequence[\"item_id_list\"] = test_sequence[\"sequence\"].apply(to_valid_list)\n",
    "test_sequence[\"item_length\"] = test_sequence[\"item_id_list\"].apply(len)"
   ]
  },
  {
   "cell_type": "code",
   "execution_count": 25,
   "id": "0490ff56",
   "metadata": {
    "execution": {
     "iopub.execute_input": "2024-11-11T10:52:16.742407Z",
     "iopub.status.busy": "2024-11-11T10:52:16.741630Z",
     "iopub.status.idle": "2024-11-11T10:52:16.756049Z",
     "shell.execute_reply": "2024-11-11T10:52:16.755185Z"
    },
    "papermill": {
     "duration": 0.036763,
     "end_time": "2024-11-11T10:52:16.758181",
     "exception": false,
     "start_time": "2024-11-11T10:52:16.721418",
     "status": "completed"
    },
    "tags": []
   },
   "outputs": [
    {
     "data": {
      "text/html": [
       "<div>\n",
       "<style scoped>\n",
       "    .dataframe tbody tr th:only-of-type {\n",
       "        vertical-align: middle;\n",
       "    }\n",
       "\n",
       "    .dataframe tbody tr th {\n",
       "        vertical-align: top;\n",
       "    }\n",
       "\n",
       "    .dataframe thead th {\n",
       "        text-align: right;\n",
       "    }\n",
       "</style>\n",
       "<table border=\"1\" class=\"dataframe\">\n",
       "  <thead>\n",
       "    <tr style=\"text-align: right;\">\n",
       "      <th></th>\n",
       "      <th>customer_id</th>\n",
       "      <th>sequence</th>\n",
       "      <th>item_id_list</th>\n",
       "      <th>item_length</th>\n",
       "    </tr>\n",
       "  </thead>\n",
       "  <tbody>\n",
       "    <tr>\n",
       "      <th>0</th>\n",
       "      <td>000058a12d5b43e67d225668fa1f8d618c13dc232df0ca...</td>\n",
       "      <td>[0794321007]</td>\n",
       "      <td>[[PAD]]</td>\n",
       "      <td>1</td>\n",
       "    </tr>\n",
       "    <tr>\n",
       "      <th>1</th>\n",
       "      <td>00039306476aaf41a07fed942884f16b30abfa83a2a8be...</td>\n",
       "      <td>[0624486001]</td>\n",
       "      <td>[[PAD]]</td>\n",
       "      <td>1</td>\n",
       "    </tr>\n",
       "    <tr>\n",
       "      <th>2</th>\n",
       "      <td>001674dc3a5fd1be9256feaecbf7a8a9ebd17232cb2188...</td>\n",
       "      <td>[0909924002, 0806131012, 0893059005, 094450600...</td>\n",
       "      <td>[0909924002, 0806131012, 0893059005, 0944506001]</td>\n",
       "      <td>4</td>\n",
       "    </tr>\n",
       "    <tr>\n",
       "      <th>3</th>\n",
       "      <td>0016df4fbb49288b9ed4a8a0fa3d2f7038fc4ab7f02e3c...</td>\n",
       "      <td>[0863937003]</td>\n",
       "      <td>[[PAD]]</td>\n",
       "      <td>1</td>\n",
       "    </tr>\n",
       "    <tr>\n",
       "      <th>4</th>\n",
       "      <td>00194061f3caa80bf10d615bf406bc5959a3bd799e4f21...</td>\n",
       "      <td>[0572998005]</td>\n",
       "      <td>[[PAD]]</td>\n",
       "      <td>1</td>\n",
       "    </tr>\n",
       "  </tbody>\n",
       "</table>\n",
       "</div>"
      ],
      "text/plain": [
       "                                         customer_id  \\\n",
       "0  000058a12d5b43e67d225668fa1f8d618c13dc232df0ca...   \n",
       "1  00039306476aaf41a07fed942884f16b30abfa83a2a8be...   \n",
       "2  001674dc3a5fd1be9256feaecbf7a8a9ebd17232cb2188...   \n",
       "3  0016df4fbb49288b9ed4a8a0fa3d2f7038fc4ab7f02e3c...   \n",
       "4  00194061f3caa80bf10d615bf406bc5959a3bd799e4f21...   \n",
       "\n",
       "                                            sequence  \\\n",
       "0                                       [0794321007]   \n",
       "1                                       [0624486001]   \n",
       "2  [0909924002, 0806131012, 0893059005, 094450600...   \n",
       "3                                       [0863937003]   \n",
       "4                                       [0572998005]   \n",
       "\n",
       "                                       item_id_list  item_length  \n",
       "0                                           [[PAD]]            1  \n",
       "1                                           [[PAD]]            1  \n",
       "2  [0909924002, 0806131012, 0893059005, 0944506001]            4  \n",
       "3                                           [[PAD]]            1  \n",
       "4                                           [[PAD]]            1  "
      ]
     },
     "execution_count": 25,
     "metadata": {},
     "output_type": "execute_result"
    }
   ],
   "source": [
    "test_sequence.head()"
   ]
  },
  {
   "cell_type": "markdown",
   "id": "13f1d3dc",
   "metadata": {
    "papermill": {
     "duration": 0.019107,
     "end_time": "2024-11-11T10:52:16.796631",
     "exception": false,
     "start_time": "2024-11-11T10:52:16.777524",
     "status": "completed"
    },
    "tags": []
   },
   "source": [
    "## Pre- and Post-processing step for non-data item"
   ]
  },
  {
   "cell_type": "code",
   "execution_count": 26,
   "id": "57fb8c84",
   "metadata": {
    "execution": {
     "iopub.execute_input": "2024-11-11T10:52:16.838015Z",
     "iopub.status.busy": "2024-11-11T10:52:16.837478Z",
     "iopub.status.idle": "2024-11-11T10:52:16.841401Z",
     "shell.execute_reply": "2024-11-11T10:52:16.840534Z"
    },
    "papermill": {
     "duration": 0.026738,
     "end_time": "2024-11-11T10:52:16.843331",
     "exception": false,
     "start_time": "2024-11-11T10:52:16.816593",
     "status": "completed"
    },
    "tags": []
   },
   "outputs": [],
   "source": [
    "sim_based = True\n",
    "K = 10"
   ]
  },
  {
   "cell_type": "code",
   "execution_count": 27,
   "id": "23dae414",
   "metadata": {
    "execution": {
     "iopub.execute_input": "2024-11-11T10:52:16.883211Z",
     "iopub.status.busy": "2024-11-11T10:52:16.882693Z",
     "iopub.status.idle": "2024-11-11T10:52:16.886935Z",
     "shell.execute_reply": "2024-11-11T10:52:16.886061Z"
    },
    "papermill": {
     "duration": 0.026223,
     "end_time": "2024-11-11T10:52:16.888762",
     "exception": false,
     "start_time": "2024-11-11T10:52:16.862539",
     "status": "completed"
    },
    "tags": []
   },
   "outputs": [],
   "source": [
    "from sklearn.metrics import average_precision_score, ndcg_score"
   ]
  },
  {
   "cell_type": "markdown",
   "id": "1af597b0",
   "metadata": {
    "papermill": {
     "duration": 0.01911,
     "end_time": "2024-11-11T10:52:16.927850",
     "exception": false,
     "start_time": "2024-11-11T10:52:16.908740",
     "status": "completed"
    },
    "tags": []
   },
   "source": [
    "### NDCG on TRAINING test_data"
   ]
  },
  {
   "cell_type": "code",
   "execution_count": 28,
   "id": "93dce6dd",
   "metadata": {
    "execution": {
     "iopub.execute_input": "2024-11-11T10:52:16.967265Z",
     "iopub.status.busy": "2024-11-11T10:52:16.966951Z",
     "iopub.status.idle": "2024-11-11T10:53:14.045018Z",
     "shell.execute_reply": "2024-11-11T10:53:14.043613Z"
    },
    "papermill": {
     "duration": 57.147176,
     "end_time": "2024-11-11T10:53:14.094034",
     "exception": false,
     "start_time": "2024-11-11T10:52:16.946858",
     "status": "completed"
    },
    "tags": []
   },
   "outputs": [
    {
     "name": "stdout",
     "output_type": "stream",
     "text": [
      "Hit NDCG on test data: 0.298\n",
      "Similarity NDCG on test data: 0.898\n"
     ]
    }
   ],
   "source": [
    "total_len = 0\n",
    "NDCG_sum = 0\n",
    "NDCG_sim_sum = 0 \n",
    "for i, epoch in enumerate(test_data):\n",
    "    interaction = epoch[0]    \n",
    "    scores = model.full_sort_predict(interaction.to(\"cuda\"))\n",
    "    y_scores = scores[:, 1:].cpu().detach().numpy()\n",
    "    true_items = dataset.id2token(dataset.iid_field, epoch[3])\n",
    "    \n",
    "    \n",
    "    y_true_cos_sim = sim_cosine_valid[[item_mapper[i] for i in true_items]]\n",
    "    y_true_cos = np.eye(dataset.item_num-1)[(epoch[3] - 1)]\n",
    "\n",
    "    NDCG_sim_sum += ndcg_score(y_true_cos_sim, y_scores) * len(epoch[2])\n",
    "    NDCG_sum += ndcg_score(y_true_cos, y_scores) * len(epoch[2])\n",
    "    total_len += len(epoch[2])\n",
    "\n",
    "print(f\"Hit NDCG on test data: {NDCG_sum / total_len:.3f}\")\n",
    "print(f\"Similarity NDCG on test data: {NDCG_sim_sum / total_len:.3f}\")"
   ]
  },
  {
   "cell_type": "markdown",
   "id": "1260554a",
   "metadata": {
    "papermill": {
     "duration": 0.034853,
     "end_time": "2024-11-11T10:53:14.171616",
     "exception": false,
     "start_time": "2024-11-11T10:53:14.136763",
     "status": "completed"
    },
    "tags": []
   },
   "source": [
    "### NDCG on NON-TRAINING data"
   ]
  },
  {
   "cell_type": "code",
   "execution_count": 29,
   "id": "fde508ea",
   "metadata": {
    "execution": {
     "iopub.execute_input": "2024-11-11T10:53:14.220944Z",
     "iopub.status.busy": "2024-11-11T10:53:14.220026Z",
     "iopub.status.idle": "2024-11-11T10:55:27.218355Z",
     "shell.execute_reply": "2024-11-11T10:55:27.217206Z"
    },
    "papermill": {
     "duration": 133.02568,
     "end_time": "2024-11-11T10:55:27.220919",
     "exception": false,
     "start_time": "2024-11-11T10:53:14.195239",
     "status": "completed"
    },
    "tags": []
   },
   "outputs": [],
   "source": [
    "# topk_list = []\n",
    "shape = (len(test_sequence), dataset.item_num-1)\n",
    "\n",
    "NDCG_pre = np.zeros(shape[0])\n",
    "NDCG_sim_pre = np.zeros(shape[0])\n",
    "\n",
    "for i, row in test_sequence.iterrows():\n",
    "    item_id_list = np.array([dataset.token2id(dataset.iid_field, row[\"item_id_list\"])])\n",
    "    interaction = {\n",
    "        \"item_id_list\": torch.LongTensor(item_id_list).to(\"cuda\"),\n",
    "        \"item_length\": torch.LongTensor(np.array([row[\"item_length\"]])).to(\"cuda\")\n",
    "    }\n",
    "    scores = model.full_sort_predict(interaction)[0]\n",
    "    y_scores = scores[1:].cpu().detach().numpy().reshape(1,-1)\n",
    "\n",
    "   \n",
    "\n",
    "    true_item = row[\"sequence\"][-1]\n",
    "    true_item_id = item_mapper[true_item]\n",
    "    y_true_cos_sim = sim_cosine_valid[true_item_id, : ].reshape(1,-1)\n",
    "\n",
    "    true_item = convert2valid(true_item) if true_item not in valid_articles else true_item\n",
    "    true_item_id = dataset.token2id(dataset.iid_field, true_item) - 1\n",
    "    y_true_cos = np.zeros(shape=(1, shape[1]))\n",
    "    y_true_cos[:, true_item_id] = 1\n",
    "        \n",
    "    NDCG_pre[i] = ndcg_score(y_true_cos, y_scores)\n",
    "    NDCG_sim_pre[i] = ndcg_score(y_true_cos_sim, y_scores)\n",
    "#print(len(topk_list))"
   ]
  },
  {
   "cell_type": "code",
   "execution_count": 30,
   "id": "ff4c4265",
   "metadata": {
    "execution": {
     "iopub.execute_input": "2024-11-11T10:55:27.264510Z",
     "iopub.status.busy": "2024-11-11T10:55:27.263886Z",
     "iopub.status.idle": "2024-11-11T10:55:27.272634Z",
     "shell.execute_reply": "2024-11-11T10:55:27.271552Z"
    },
    "papermill": {
     "duration": 0.032863,
     "end_time": "2024-11-11T10:55:27.274868",
     "exception": false,
     "start_time": "2024-11-11T10:55:27.242005",
     "status": "completed"
    },
    "tags": []
   },
   "outputs": [
    {
     "name": "stdout",
     "output_type": "stream",
     "text": [
      "Hit NDCG with preprocessing step: 0.227\n",
      "Similarity NDCG with preprocessing step: 0.892\n"
     ]
    }
   ],
   "source": [
    "print(f\"Hit NDCG with preprocessing step: {NDCG_pre.mean():.3f}\")\n",
    "print(f\"Similarity NDCG with preprocessing step: {NDCG_sim_pre.mean():.3f}\")"
   ]
  },
  {
   "cell_type": "code",
   "execution_count": 31,
   "id": "999c49c6",
   "metadata": {
    "execution": {
     "iopub.execute_input": "2024-11-11T10:55:27.317366Z",
     "iopub.status.busy": "2024-11-11T10:55:27.317029Z",
     "iopub.status.idle": "2024-11-11T10:55:29.216327Z",
     "shell.execute_reply": "2024-11-11T10:55:29.215187Z"
    },
    "papermill": {
     "duration": 1.923684,
     "end_time": "2024-11-11T10:55:29.219033",
     "exception": false,
     "start_time": "2024-11-11T10:55:27.295349",
     "status": "completed"
    },
    "tags": []
   },
   "outputs": [],
   "source": [
    "non_valid_ids = [item_mapper[item] for item in item_mapper.keys() if item not in valid_articles]\n",
    "valid_ids = [item_mapper[item] for item in valid_articles]\n",
    "sim_weights = sim_cosine_valid[non_valid_ids] / np.sum(sim_cosine_valid[non_valid_ids], axis=1).reshape(-1,1)\n",
    "# print(sim_weights.shape)\n",
    "\n",
    "def weighted_similarity(initial_scores):\n",
    "    final_scores = np.zeros((X.shape[0]))\n",
    "    final_scores[valid_ids] = initial_scores\n",
    "    \n",
    "    # sim_scores = sim_cosine_valid[non_valid_ids][:,match_item_ids]\n",
    "    # weights = sim_scores / np.sum(sim_scores, axis=1).reshape(-1,1)\n",
    "    final_scores[non_valid_ids] = np.dot(sim_weights, initial_scores)\n",
    "    return final_scores.reshape(1,-1)"
   ]
  },
  {
   "cell_type": "code",
   "execution_count": 32,
   "id": "69943320",
   "metadata": {
    "execution": {
     "iopub.execute_input": "2024-11-11T10:55:29.264921Z",
     "iopub.status.busy": "2024-11-11T10:55:29.263926Z",
     "iopub.status.idle": "2024-11-11T11:20:21.564283Z",
     "shell.execute_reply": "2024-11-11T11:20:21.562819Z"
    },
    "papermill": {
     "duration": 1492.326212,
     "end_time": "2024-11-11T11:20:21.568225",
     "exception": false,
     "start_time": "2024-11-11T10:55:29.242013",
     "status": "completed"
    },
    "tags": []
   },
   "outputs": [],
   "source": [
    "# topk_list = []\n",
    "\n",
    "NDCG_sim_post = np.zeros(shape[0])\n",
    "NDCG_post = np.zeros(shape[0])\n",
    "N = shape[1]\n",
    "k = 10\n",
    "weights = np.array([1/(np.log2(a+2)) for a in range(k)])\n",
    "\n",
    "for i, row in test_sequence.iterrows():\n",
    "    item_id_list = np.array([dataset.token2id(dataset.iid_field, row[\"item_id_list\"])])\n",
    "    interaction = {\n",
    "        \"item_id_list\": torch.LongTensor(item_id_list).to(\"cuda\"),\n",
    "        \"item_length\": torch.LongTensor(np.array([row[\"item_length\"]])).to(\"cuda\")\n",
    "    }\n",
    "    scores = model.full_sort_predict(interaction)[0]\n",
    "    # scores[0] = -float(\"inf\")\n",
    "    scores = scores.cpu().detach().numpy()\n",
    "    # top_indices = np.argsort(-scores)[:k]\n",
    "    # top_valid_items = dataset.id2token(dataset.iid_field, top_indices)\n",
    "    y_scores = weighted_similarity(scores[1:])\n",
    "\n",
    "    true_item_id = item_mapper[row[\"sequence\"][-1]]\n",
    "    y_true_cos_sim = sim_cosine_all[true_item_id, :].reshape(1,-1)\n",
    "\n",
    "    y_true_cos = np.zeros(shape=(1, X.shape[0]))\n",
    "    y_true_cos[:, true_item_id] = 1\n",
    "        \n",
    "    NDCG_post[i] = ndcg_score(y_true_cos, y_scores)\n",
    "    NDCG_sim_post[i] = ndcg_score(y_true_cos_sim, y_scores)\n",
    "#print(len(topk_list))"
   ]
  },
  {
   "cell_type": "code",
   "execution_count": 33,
   "id": "3005244c",
   "metadata": {
    "execution": {
     "iopub.execute_input": "2024-11-11T11:20:21.660837Z",
     "iopub.status.busy": "2024-11-11T11:20:21.660224Z",
     "iopub.status.idle": "2024-11-11T11:20:21.677414Z",
     "shell.execute_reply": "2024-11-11T11:20:21.676196Z"
    },
    "papermill": {
     "duration": 0.074896,
     "end_time": "2024-11-11T11:20:21.687514",
     "exception": false,
     "start_time": "2024-11-11T11:20:21.612618",
     "status": "completed"
    },
    "tags": []
   },
   "outputs": [
    {
     "name": "stdout",
     "output_type": "stream",
     "text": [
      "Hit NDCG with pre- and post-processing step: 0.215\n",
      "Similarity NDCG with pre- and post-processing step: 0.909\n"
     ]
    }
   ],
   "source": [
    "print(f\"Hit NDCG with pre- and post-processing step: {NDCG_post.mean():.3f}\")\n",
    "print(f\"Similarity NDCG with pre- and post-processing step: {NDCG_sim_post.mean():.3f}\")"
   ]
  }
 ],
 "metadata": {
  "kaggle": {
   "accelerator": "nvidiaTeslaT4",
   "dataSources": [
    {
     "databundleVersionId": 3103714,
     "sourceId": 31254,
     "sourceType": "competition"
    },
    {
     "datasetId": 6001919,
     "sourceId": 9821334,
     "sourceType": "datasetVersion"
    }
   ],
   "dockerImageVersionId": 30787,
   "isGpuEnabled": true,
   "isInternetEnabled": true,
   "language": "python",
   "sourceType": "notebook"
  },
  "kernelspec": {
   "display_name": "Python 3",
   "language": "python",
   "name": "python3"
  },
  "language_info": {
   "codemirror_mode": {
    "name": "ipython",
    "version": 3
   },
   "file_extension": ".py",
   "mimetype": "text/x-python",
   "name": "python",
   "nbconvert_exporter": "python",
   "pygments_lexer": "ipython3",
   "version": "3.10.14"
  },
  "papermill": {
   "default_parameters": {},
   "duration": 2922.526512,
   "end_time": "2024-11-11T11:20:24.431288",
   "environment_variables": {},
   "exception": null,
   "input_path": "__notebook__.ipynb",
   "output_path": "__notebook__.ipynb",
   "parameters": {},
   "start_time": "2024-11-11T10:31:41.904776",
   "version": "2.6.0"
  }
 },
 "nbformat": 4,
 "nbformat_minor": 5
}
