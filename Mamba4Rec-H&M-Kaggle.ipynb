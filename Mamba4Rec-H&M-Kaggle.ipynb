{
 "cells": [
  {
   "cell_type": "code",
   "execution_count": 1,
   "id": "72be3578",
   "metadata": {
    "execution": {
     "iopub.execute_input": "2024-11-11T19:10:02.309123Z",
     "iopub.status.busy": "2024-11-11T19:10:02.308828Z",
     "iopub.status.idle": "2024-11-11T19:10:02.318008Z",
     "shell.execute_reply": "2024-11-11T19:10:02.317314Z"
    },
    "papermill": {
     "duration": 0.02332,
     "end_time": "2024-11-11T19:10:02.319948",
     "exception": false,
     "start_time": "2024-11-11T19:10:02.296628",
     "status": "completed"
    },
    "tags": []
   },
   "outputs": [],
   "source": [
    "import warnings\n",
    "\n",
    "warnings.filterwarnings(\"ignore\")"
   ]
  },
  {
   "cell_type": "code",
   "execution_count": 2,
   "id": "26dae315",
   "metadata": {
    "_cell_guid": "b1076dfc-b9ad-4769-8c92-a6c4dae69d19",
    "_uuid": "8f2839f25d086af736a60e9eeb907d3b93b6e0e5",
    "execution": {
     "iopub.execute_input": "2024-11-11T19:10:02.342547Z",
     "iopub.status.busy": "2024-11-11T19:10:02.342252Z",
     "iopub.status.idle": "2024-11-11T19:10:39.413168Z",
     "shell.execute_reply": "2024-11-11T19:10:39.412167Z"
    },
    "papermill": {
     "duration": 37.084079,
     "end_time": "2024-11-11T19:10:39.415396",
     "exception": false,
     "start_time": "2024-11-11T19:10:02.331317",
     "status": "completed"
    },
    "tags": []
   },
   "outputs": [
    {
     "name": "stdout",
     "output_type": "stream",
     "text": [
      "Collecting recbole\r\n",
      "  Downloading recbole-1.2.0-py3-none-any.whl.metadata (1.4 kB)\r\n",
      "Collecting mamba-ssm\r\n",
      "  Downloading mamba_ssm-2.2.2.tar.gz (85 kB)\r\n",
      "\u001b[2K     \u001b[90m━━━━━━━━━━━━━━━━━━━━━━━━━━━━━━━━━━━━━━━━\u001b[0m \u001b[32m85.4/85.4 kB\u001b[0m \u001b[31m2.3 MB/s\u001b[0m eta \u001b[36m0:00:00\u001b[0m\r\n",
      "\u001b[?25h  Preparing metadata (setup.py) ... \u001b[?25l-\b \bdone\r\n",
      "\u001b[?25hRequirement already satisfied: ray in /opt/conda/lib/python3.10/site-packages (2.24.0)\r\n",
      "Collecting kmeans-pytorch\r\n",
      "  Downloading kmeans_pytorch-0.3-py3-none-any.whl.metadata (1.6 kB)\r\n",
      "Requirement already satisfied: torch>=1.10.0 in /opt/conda/lib/python3.10/site-packages (from recbole) (2.4.0)\r\n",
      "Requirement already satisfied: numpy>=1.17.2 in /opt/conda/lib/python3.10/site-packages (from recbole) (1.26.4)\r\n",
      "Requirement already satisfied: scipy>=1.6.0 in /opt/conda/lib/python3.10/site-packages (from recbole) (1.14.1)\r\n",
      "Requirement already satisfied: pandas>=1.4.0 in /opt/conda/lib/python3.10/site-packages (from recbole) (2.2.2)\r\n",
      "Requirement already satisfied: tqdm>=4.48.2 in /opt/conda/lib/python3.10/site-packages (from recbole) (4.66.4)\r\n",
      "Collecting colorlog==4.7.2 (from recbole)\r\n",
      "  Downloading colorlog-4.7.2-py2.py3-none-any.whl.metadata (9.9 kB)\r\n",
      "Collecting colorama==0.4.4 (from recbole)\r\n",
      "  Downloading colorama-0.4.4-py2.py3-none-any.whl.metadata (14 kB)\r\n",
      "Requirement already satisfied: scikit-learn>=0.23.2 in /opt/conda/lib/python3.10/site-packages (from recbole) (1.2.2)\r\n",
      "Requirement already satisfied: pyyaml>=5.1.0 in /opt/conda/lib/python3.10/site-packages (from recbole) (6.0.2)\r\n",
      "Requirement already satisfied: tensorboard>=2.5.0 in /opt/conda/lib/python3.10/site-packages (from recbole) (2.16.2)\r\n",
      "Collecting thop>=0.1.1.post2207130030 (from recbole)\r\n",
      "  Downloading thop-0.1.1.post2209072238-py3-none-any.whl.metadata (2.7 kB)\r\n",
      "Requirement already satisfied: tabulate>=0.8.10 in /opt/conda/lib/python3.10/site-packages (from recbole) (0.9.0)\r\n",
      "Requirement already satisfied: plotly>=4.0.0 in /opt/conda/lib/python3.10/site-packages (from recbole) (5.22.0)\r\n",
      "Requirement already satisfied: texttable>=0.9.0 in /opt/conda/lib/python3.10/site-packages (from recbole) (1.7.0)\r\n",
      "Requirement already satisfied: packaging in /opt/conda/lib/python3.10/site-packages (from mamba-ssm) (21.3)\r\n",
      "Requirement already satisfied: ninja in /opt/conda/lib/python3.10/site-packages (from mamba-ssm) (1.11.1.1)\r\n",
      "Collecting einops (from mamba-ssm)\r\n",
      "  Downloading einops-0.8.0-py3-none-any.whl.metadata (12 kB)\r\n",
      "Collecting triton (from mamba-ssm)\r\n",
      "  Downloading triton-3.1.0-cp310-cp310-manylinux_2_17_x86_64.manylinux2014_x86_64.whl.metadata (1.3 kB)\r\n",
      "Requirement already satisfied: transformers in /opt/conda/lib/python3.10/site-packages (from mamba-ssm) (4.45.1)\r\n",
      "Requirement already satisfied: click>=7.0 in /opt/conda/lib/python3.10/site-packages (from ray) (8.1.7)\r\n",
      "Requirement already satisfied: filelock in /opt/conda/lib/python3.10/site-packages (from ray) (3.15.1)\r\n",
      "Requirement already satisfied: jsonschema in /opt/conda/lib/python3.10/site-packages (from ray) (4.22.0)\r\n",
      "Requirement already satisfied: msgpack<2.0.0,>=1.0.0 in /opt/conda/lib/python3.10/site-packages (from ray) (1.0.8)\r\n",
      "Requirement already satisfied: protobuf!=3.19.5,>=3.15.3 in /opt/conda/lib/python3.10/site-packages (from ray) (3.20.3)\r\n",
      "Requirement already satisfied: aiosignal in /opt/conda/lib/python3.10/site-packages (from ray) (1.3.1)\r\n",
      "Requirement already satisfied: frozenlist in /opt/conda/lib/python3.10/site-packages (from ray) (1.4.1)\r\n",
      "Requirement already satisfied: requests in /opt/conda/lib/python3.10/site-packages (from ray) (2.32.3)\r\n",
      "Requirement already satisfied: python-dateutil>=2.8.2 in /opt/conda/lib/python3.10/site-packages (from pandas>=1.4.0->recbole) (2.9.0.post0)\r\n",
      "Requirement already satisfied: pytz>=2020.1 in /opt/conda/lib/python3.10/site-packages (from pandas>=1.4.0->recbole) (2024.1)\r\n",
      "Requirement already satisfied: tzdata>=2022.7 in /opt/conda/lib/python3.10/site-packages (from pandas>=1.4.0->recbole) (2024.1)\r\n",
      "Requirement already satisfied: tenacity>=6.2.0 in /opt/conda/lib/python3.10/site-packages (from plotly>=4.0.0->recbole) (8.3.0)\r\n",
      "Requirement already satisfied: joblib>=1.1.1 in /opt/conda/lib/python3.10/site-packages (from scikit-learn>=0.23.2->recbole) (1.4.2)\r\n",
      "Requirement already satisfied: threadpoolctl>=2.0.0 in /opt/conda/lib/python3.10/site-packages (from scikit-learn>=0.23.2->recbole) (3.5.0)\r\n",
      "Requirement already satisfied: absl-py>=0.4 in /opt/conda/lib/python3.10/site-packages (from tensorboard>=2.5.0->recbole) (1.4.0)\r\n",
      "Requirement already satisfied: grpcio>=1.48.2 in /opt/conda/lib/python3.10/site-packages (from tensorboard>=2.5.0->recbole) (1.62.2)\r\n",
      "Requirement already satisfied: markdown>=2.6.8 in /opt/conda/lib/python3.10/site-packages (from tensorboard>=2.5.0->recbole) (3.6)\r\n",
      "Requirement already satisfied: setuptools>=41.0.0 in /opt/conda/lib/python3.10/site-packages (from tensorboard>=2.5.0->recbole) (70.0.0)\r\n",
      "Requirement already satisfied: six>1.9 in /opt/conda/lib/python3.10/site-packages (from tensorboard>=2.5.0->recbole) (1.16.0)\r\n",
      "Requirement already satisfied: tensorboard-data-server<0.8.0,>=0.7.0 in /opt/conda/lib/python3.10/site-packages (from tensorboard>=2.5.0->recbole) (0.7.2)\r\n",
      "Requirement already satisfied: werkzeug>=1.0.1 in /opt/conda/lib/python3.10/site-packages (from tensorboard>=2.5.0->recbole) (3.0.4)\r\n",
      "Requirement already satisfied: typing-extensions>=4.8.0 in /opt/conda/lib/python3.10/site-packages (from torch>=1.10.0->recbole) (4.12.2)\r\n",
      "Requirement already satisfied: sympy in /opt/conda/lib/python3.10/site-packages (from torch>=1.10.0->recbole) (1.13.3)\r\n",
      "Requirement already satisfied: networkx in /opt/conda/lib/python3.10/site-packages (from torch>=1.10.0->recbole) (3.3)\r\n",
      "Requirement already satisfied: jinja2 in /opt/conda/lib/python3.10/site-packages (from torch>=1.10.0->recbole) (3.1.4)\r\n",
      "Requirement already satisfied: fsspec in /opt/conda/lib/python3.10/site-packages (from torch>=1.10.0->recbole) (2024.6.1)\r\n",
      "Requirement already satisfied: attrs>=22.2.0 in /opt/conda/lib/python3.10/site-packages (from jsonschema->ray) (23.2.0)\r\n",
      "Requirement already satisfied: jsonschema-specifications>=2023.03.6 in /opt/conda/lib/python3.10/site-packages (from jsonschema->ray) (2023.12.1)\r\n",
      "Requirement already satisfied: referencing>=0.28.4 in /opt/conda/lib/python3.10/site-packages (from jsonschema->ray) (0.35.1)\r\n",
      "Requirement already satisfied: rpds-py>=0.7.1 in /opt/conda/lib/python3.10/site-packages (from jsonschema->ray) (0.18.1)\r\n",
      "Requirement already satisfied: pyparsing!=3.0.5,>=2.0.2 in /opt/conda/lib/python3.10/site-packages (from packaging->mamba-ssm) (3.1.2)\r\n",
      "Requirement already satisfied: charset-normalizer<4,>=2 in /opt/conda/lib/python3.10/site-packages (from requests->ray) (3.3.2)\r\n",
      "Requirement already satisfied: idna<4,>=2.5 in /opt/conda/lib/python3.10/site-packages (from requests->ray) (3.7)\r\n",
      "Requirement already satisfied: urllib3<3,>=1.21.1 in /opt/conda/lib/python3.10/site-packages (from requests->ray) (1.26.18)\r\n",
      "Requirement already satisfied: certifi>=2017.4.17 in /opt/conda/lib/python3.10/site-packages (from requests->ray) (2024.8.30)\r\n",
      "Requirement already satisfied: huggingface-hub<1.0,>=0.23.2 in /opt/conda/lib/python3.10/site-packages (from transformers->mamba-ssm) (0.25.1)\r\n",
      "Requirement already satisfied: regex!=2019.12.17 in /opt/conda/lib/python3.10/site-packages (from transformers->mamba-ssm) (2024.5.15)\r\n",
      "Requirement already satisfied: safetensors>=0.4.1 in /opt/conda/lib/python3.10/site-packages (from transformers->mamba-ssm) (0.4.5)\r\n",
      "Requirement already satisfied: tokenizers<0.21,>=0.20 in /opt/conda/lib/python3.10/site-packages (from transformers->mamba-ssm) (0.20.0)\r\n",
      "Requirement already satisfied: MarkupSafe>=2.1.1 in /opt/conda/lib/python3.10/site-packages (from werkzeug>=1.0.1->tensorboard>=2.5.0->recbole) (2.1.5)\r\n",
      "Requirement already satisfied: mpmath<1.4,>=1.1.0 in /opt/conda/lib/python3.10/site-packages (from sympy->torch>=1.10.0->recbole) (1.3.0)\r\n",
      "Downloading recbole-1.2.0-py3-none-any.whl (2.1 MB)\r\n",
      "\u001b[2K   \u001b[90m━━━━━━━━━━━━━━━━━━━━━━━━━━━━━━━━━━━━━━━━\u001b[0m \u001b[32m2.1/2.1 MB\u001b[0m \u001b[31m31.3 MB/s\u001b[0m eta \u001b[36m0:00:00\u001b[0m\r\n",
      "\u001b[?25hDownloading colorama-0.4.4-py2.py3-none-any.whl (16 kB)\r\n",
      "Downloading colorlog-4.7.2-py2.py3-none-any.whl (10 kB)\r\n",
      "Downloading kmeans_pytorch-0.3-py3-none-any.whl (4.4 kB)\r\n",
      "Downloading thop-0.1.1.post2209072238-py3-none-any.whl (15 kB)\r\n",
      "Downloading einops-0.8.0-py3-none-any.whl (43 kB)\r\n",
      "\u001b[2K   \u001b[90m━━━━━━━━━━━━━━━━━━━━━━━━━━━━━━━━━━━━━━━━\u001b[0m \u001b[32m43.2/43.2 kB\u001b[0m \u001b[31m3.6 MB/s\u001b[0m eta \u001b[36m0:00:00\u001b[0m\r\n",
      "\u001b[?25hDownloading triton-3.1.0-cp310-cp310-manylinux_2_17_x86_64.manylinux2014_x86_64.whl (209.5 MB)\r\n",
      "\u001b[2K   \u001b[90m━━━━━━━━━━━━━━━━━━━━━━━━━━━━━━━━━━━━━━━━\u001b[0m \u001b[32m209.5/209.5 MB\u001b[0m \u001b[31m7.8 MB/s\u001b[0m eta \u001b[36m0:00:00\u001b[0m\r\n",
      "\u001b[?25hBuilding wheels for collected packages: mamba-ssm\r\n",
      "  Building wheel for mamba-ssm (setup.py) ... \u001b[?25l-\b \b\\\b \b|\b \bdone\r\n",
      "\u001b[?25h  Created wheel for mamba-ssm: filename=mamba_ssm-2.2.2-cp310-cp310-linux_x86_64.whl size=323998290 sha256=a658a5438dbe9fb3a53799d7d9f4714ca09225769c24ec04a403728ac7d1c69e\r\n",
      "  Stored in directory: /root/.cache/pip/wheels/57/7c/90/9f963468ecc3791e36e388f9e7b4a4e1e3f90fbb340055aa4d\r\n",
      "Successfully built mamba-ssm\r\n",
      "Installing collected packages: colorlog, triton, kmeans-pytorch, einops, colorama, thop, recbole, mamba-ssm\r\n",
      "  Attempting uninstall: colorlog\r\n",
      "    Found existing installation: colorlog 6.8.2\r\n",
      "    Uninstalling colorlog-6.8.2:\r\n",
      "      Successfully uninstalled colorlog-6.8.2\r\n",
      "  Attempting uninstall: colorama\r\n",
      "    Found existing installation: colorama 0.4.6\r\n",
      "    Uninstalling colorama-0.4.6:\r\n",
      "      Successfully uninstalled colorama-0.4.6\r\n",
      "\u001b[31mERROR: pip's dependency resolver does not currently take into account all the packages that are installed. This behaviour is the source of the following dependency conflicts.\r\n",
      "bayesian-optimization 1.5.1 requires colorama<0.5.0,>=0.4.6, but you have colorama 0.4.4 which is incompatible.\u001b[0m\u001b[31m\r\n",
      "\u001b[0mSuccessfully installed colorama-0.4.4 colorlog-4.7.2 einops-0.8.0 kmeans-pytorch-0.3 mamba-ssm-2.2.2 recbole-1.2.0 thop-0.1.1.post2209072238 triton-3.1.0\r\n"
     ]
    }
   ],
   "source": [
    "!pip install recbole mamba-ssm ray kmeans-pytorch"
   ]
  },
  {
   "cell_type": "code",
   "execution_count": 3,
   "id": "2fbfe3a0",
   "metadata": {
    "execution": {
     "iopub.execute_input": "2024-11-11T19:10:39.452441Z",
     "iopub.status.busy": "2024-11-11T19:10:39.452123Z",
     "iopub.status.idle": "2024-11-11T19:10:41.856988Z",
     "shell.execute_reply": "2024-11-11T19:10:41.855996Z"
    },
    "papermill": {
     "duration": 2.426002,
     "end_time": "2024-11-11T19:10:41.859289",
     "exception": false,
     "start_time": "2024-11-11T19:10:39.433287",
     "status": "completed"
    },
    "tags": []
   },
   "outputs": [],
   "source": [
    "import pandas as pd\n",
    "import numpy as np\n",
    "import torch\n",
    "import time"
   ]
  },
  {
   "cell_type": "markdown",
   "id": "62441005",
   "metadata": {
    "papermill": {
     "duration": 0.017352,
     "end_time": "2024-11-11T19:10:41.894546",
     "exception": false,
     "start_time": "2024-11-11T19:10:41.877194",
     "status": "completed"
    },
    "tags": []
   },
   "source": [
    "# Data preparation"
   ]
  },
  {
   "cell_type": "code",
   "execution_count": 4,
   "id": "07cbae2e",
   "metadata": {
    "execution": {
     "iopub.execute_input": "2024-11-11T19:10:41.931561Z",
     "iopub.status.busy": "2024-11-11T19:10:41.930938Z",
     "iopub.status.idle": "2024-11-11T19:10:45.026468Z",
     "shell.execute_reply": "2024-11-11T19:10:45.025138Z"
    },
    "papermill": {
     "duration": 3.117535,
     "end_time": "2024-11-11T19:10:45.029720",
     "exception": false,
     "start_time": "2024-11-11T19:10:41.912185",
     "status": "completed"
    },
    "tags": []
   },
   "outputs": [
    {
     "name": "stdout",
     "output_type": "stream",
     "text": [
      "/kaggle/working\n",
      "/kaggle/working/h-and-m-run-file\n"
     ]
    }
   ],
   "source": [
    "%cd /kaggle/working\n",
    "%cp -r /kaggle/input/h-and-m-run-file ./\n",
    "%cd h-and-m-run-file\n",
    "%mkdir dataset\n",
    "%mkdir dataset/hm"
   ]
  },
  {
   "cell_type": "code",
   "execution_count": 5,
   "id": "1f55a754",
   "metadata": {
    "execution": {
     "iopub.execute_input": "2024-11-11T19:10:45.077025Z",
     "iopub.status.busy": "2024-11-11T19:10:45.076633Z",
     "iopub.status.idle": "2024-11-11T19:11:54.861133Z",
     "shell.execute_reply": "2024-11-11T19:11:54.860290Z"
    },
    "papermill": {
     "duration": 69.806573,
     "end_time": "2024-11-11T19:11:54.863479",
     "exception": false,
     "start_time": "2024-11-11T19:10:45.056906",
     "status": "completed"
    },
    "tags": []
   },
   "outputs": [],
   "source": [
    "dtype={\"article_id\": str}\n",
    "inter = pd.read_csv(\"/kaggle/input/h-and-m-personalized-fashion-recommendations/transactions_train.csv\", dtype=dtype)"
   ]
  },
  {
   "cell_type": "code",
   "execution_count": 6,
   "id": "9735a5b8",
   "metadata": {
    "execution": {
     "iopub.execute_input": "2024-11-11T19:11:54.900713Z",
     "iopub.status.busy": "2024-11-11T19:11:54.900084Z",
     "iopub.status.idle": "2024-11-11T19:12:00.767255Z",
     "shell.execute_reply": "2024-11-11T19:12:00.766235Z"
    },
    "papermill": {
     "duration": 5.888401,
     "end_time": "2024-11-11T19:12:00.769756",
     "exception": false,
     "start_time": "2024-11-11T19:11:54.881355",
     "status": "completed"
    },
    "tags": []
   },
   "outputs": [],
   "source": [
    "inter[\"timestamp\"] = pd.to_datetime(inter[\"t_dat\"]).astype(int) / 10 ** 9\n",
    "data = inter[inter[\"timestamp\"] > inter[\"timestamp\"].quantile(1-1/64)][[\"customer_id\", \"article_id\", \"timestamp\"]]"
   ]
  },
  {
   "cell_type": "code",
   "execution_count": 7,
   "id": "46ba5a17",
   "metadata": {
    "execution": {
     "iopub.execute_input": "2024-11-11T19:12:00.806968Z",
     "iopub.status.busy": "2024-11-11T19:12:00.806292Z",
     "iopub.status.idle": "2024-11-11T19:12:04.441459Z",
     "shell.execute_reply": "2024-11-11T19:12:04.440728Z"
    },
    "papermill": {
     "duration": 3.65591,
     "end_time": "2024-11-11T19:12:04.443837",
     "exception": false,
     "start_time": "2024-11-11T19:12:00.787927",
     "status": "completed"
    },
    "tags": []
   },
   "outputs": [],
   "source": [
    "user_seqs = data.groupby(\"customer_id\")[\"article_id\"].agg(list).reset_index()[\"customer_id\"]"
   ]
  },
  {
   "cell_type": "code",
   "execution_count": 8,
   "id": "cd0dbb93",
   "metadata": {
    "execution": {
     "iopub.execute_input": "2024-11-11T19:12:04.480110Z",
     "iopub.status.busy": "2024-11-11T19:12:04.479814Z",
     "iopub.status.idle": "2024-11-11T19:12:05.476837Z",
     "shell.execute_reply": "2024-11-11T19:12:05.476057Z"
    },
    "papermill": {
     "duration": 1.017645,
     "end_time": "2024-11-11T19:12:05.479133",
     "exception": false,
     "start_time": "2024-11-11T19:12:04.461488",
     "status": "completed"
    },
    "tags": []
   },
   "outputs": [],
   "source": [
    "from sklearn.model_selection import train_test_split\n",
    "\n",
    "train_ids, test_ids = train_test_split(user_seqs, test_size=0.2, random_state=42)"
   ]
  },
  {
   "cell_type": "code",
   "execution_count": 9,
   "id": "479c7463",
   "metadata": {
    "execution": {
     "iopub.execute_input": "2024-11-11T19:12:05.515708Z",
     "iopub.status.busy": "2024-11-11T19:12:05.515248Z",
     "iopub.status.idle": "2024-11-11T19:12:05.644113Z",
     "shell.execute_reply": "2024-11-11T19:12:05.643323Z"
    },
    "papermill": {
     "duration": 0.149308,
     "end_time": "2024-11-11T19:12:05.646389",
     "exception": false,
     "start_time": "2024-11-11T19:12:05.497081",
     "status": "completed"
    },
    "tags": []
   },
   "outputs": [],
   "source": [
    "train_df = data[data[\"customer_id\"].isin(train_ids)]\n",
    "test_df = data[data[\"customer_id\"].isin(test_ids)]"
   ]
  },
  {
   "cell_type": "code",
   "execution_count": 10,
   "id": "94d80357",
   "metadata": {
    "execution": {
     "iopub.execute_input": "2024-11-11T19:12:05.683310Z",
     "iopub.status.busy": "2024-11-11T19:12:05.682591Z",
     "iopub.status.idle": "2024-11-11T19:12:05.687010Z",
     "shell.execute_reply": "2024-11-11T19:12:05.686130Z"
    },
    "papermill": {
     "duration": 0.024541,
     "end_time": "2024-11-11T19:12:05.688857",
     "exception": false,
     "start_time": "2024-11-11T19:12:05.664316",
     "status": "completed"
    },
    "tags": []
   },
   "outputs": [],
   "source": [
    "train_df.columns = [\"user_id:token\", \"item_id:token\", \"timestamp:float\"]"
   ]
  },
  {
   "cell_type": "code",
   "execution_count": 11,
   "id": "b78b0ab9",
   "metadata": {
    "execution": {
     "iopub.execute_input": "2024-11-11T19:12:05.724652Z",
     "iopub.status.busy": "2024-11-11T19:12:05.724343Z",
     "iopub.status.idle": "2024-11-11T19:12:07.690109Z",
     "shell.execute_reply": "2024-11-11T19:12:07.689077Z"
    },
    "papermill": {
     "duration": 1.986069,
     "end_time": "2024-11-11T19:12:07.692363",
     "exception": false,
     "start_time": "2024-11-11T19:12:05.706294",
     "status": "completed"
    },
    "tags": []
   },
   "outputs": [],
   "source": [
    "train_df.to_csv(\"dataset/hm/hm.inter\", sep=\"\\t\", index=False)"
   ]
  },
  {
   "cell_type": "markdown",
   "id": "e760314e",
   "metadata": {
    "papermill": {
     "duration": 0.017254,
     "end_time": "2024-11-11T19:12:07.727317",
     "exception": false,
     "start_time": "2024-11-11T19:12:07.710063",
     "status": "completed"
    },
    "tags": []
   },
   "source": [
    "# Model training"
   ]
  },
  {
   "cell_type": "code",
   "execution_count": 12,
   "id": "dcc4385d",
   "metadata": {
    "execution": {
     "iopub.execute_input": "2024-11-11T19:12:07.763589Z",
     "iopub.status.busy": "2024-11-11T19:12:07.762857Z",
     "iopub.status.idle": "2024-11-11T19:12:20.263892Z",
     "shell.execute_reply": "2024-11-11T19:12:20.263069Z"
    },
    "papermill": {
     "duration": 12.521463,
     "end_time": "2024-11-11T19:12:20.266220",
     "exception": false,
     "start_time": "2024-11-11T19:12:07.744757",
     "status": "completed"
    },
    "tags": []
   },
   "outputs": [],
   "source": [
    "import sys\n",
    "import os\n",
    "import logging\n",
    "import argparse\n",
    "from logging import getLogger\n",
    "from recbole.utils import init_logger, init_seed\n",
    "from recbole.trainer import Trainer\n",
    "from mamba4rec import Mamba4Rec\n",
    "# from mamba4rec_attr import Mamba4Rec\n",
    "from recbole.config import Config\n",
    "from recbole.data import create_dataset, data_preparation\n",
    "from recbole.data.transform import construct_transform\n",
    "from recbole.utils import (\n",
    "    init_logger,\n",
    "    get_model,\n",
    "    get_trainer,\n",
    "    init_seed,\n",
    "    set_color,\n",
    "    get_flops,\n",
    "    get_environment,\n",
    ")"
   ]
  },
  {
   "cell_type": "code",
   "execution_count": 13,
   "id": "3c5ecaba",
   "metadata": {
    "execution": {
     "iopub.execute_input": "2024-11-11T19:12:20.302888Z",
     "iopub.status.busy": "2024-11-11T19:12:20.302042Z",
     "iopub.status.idle": "2024-11-11T19:31:06.190208Z",
     "shell.execute_reply": "2024-11-11T19:31:06.189357Z"
    },
    "papermill": {
     "duration": 1125.929265,
     "end_time": "2024-11-11T19:31:06.213121",
     "exception": false,
     "start_time": "2024-11-11T19:12:20.283856",
     "status": "completed"
    },
    "tags": []
   },
   "outputs": [
    {
     "name": "stdout",
     "output_type": "stream",
     "text": [
      "The running environment of this training is as follows:\n",
      "+-------------+----------------+\n",
      "| Environment |     Usage      |\n",
      "+=============+================+\n",
      "| CPU         |     2.50 %     |\n",
      "+-------------+----------------+\n",
      "| GPU         | 2.06 G/14.74 G |\n",
      "+-------------+----------------+\n",
      "| Memory      | 4.77 G/31.36 G |\n",
      "+-------------+----------------+\n",
      "best valid : OrderedDict([('map@10', 0.147), ('map@12', 0.148), ('ndcg@10', 0.1664), ('ndcg@12', 0.1694), ('mrr@10', 0.147), ('mrr@12', 0.148)])\n",
      "test result: OrderedDict([('map@10', 0.1811), ('map@12', 0.182), ('ndcg@10', 0.2007), ('ndcg@12', 0.2035), ('mrr@10', 0.1811), ('mrr@12', 0.182)])\n"
     ]
    }
   ],
   "source": [
    "config = Config(model=Mamba4Rec, config_file_list=[\"config_hm.yaml\"])\n",
    "init_seed(config['seed'], config['reproducibility'])\n",
    "\n",
    "# logger initialization\n",
    "init_logger(config)\n",
    "logger = getLogger()\n",
    "logger.info(sys.argv)\n",
    "logger.info(config)\n",
    "\n",
    "# dataset filtering\n",
    "dataset = create_dataset(config)\n",
    "logger.info(dataset)\n",
    "\n",
    "# dataset splitting\n",
    "train_data, valid_data, test_data = data_preparation(config, dataset)\n",
    "\n",
    "# model loading and initialization\n",
    "init_seed(config[\"seed\"] + config[\"local_rank\"], config[\"reproducibility\"])\n",
    "model = Mamba4Rec(config, train_data.dataset).to(config['device'])\n",
    "logger.info(model)\n",
    "\n",
    "transform = construct_transform(config)\n",
    "flops = get_flops(model, dataset, config[\"device\"], logger, transform)\n",
    "logger.info(set_color(\"FLOPs\", \"blue\") + f\": {flops}\")\n",
    "\n",
    "# trainer loading and initialization\n",
    "trainer = Trainer(config, model)\n",
    "\n",
    "\n",
    "if os.path.exists(\"saved/checkpoint.pth\"):\n",
    "    trainer.resume_checkpoint(\"saved/checkpoint.pth\")\n",
    "# model training\n",
    "best_valid_score, best_valid_result = trainer.fit(\n",
    "    train_data, valid_data, show_progress=False,\n",
    "    saved=True, verbose=True\n",
    ")\n",
    "\n",
    "# trainer.eval_collector.data_collect(train_data)\n",
    "# model evaluation\n",
    "test_result = trainer.evaluate(\n",
    "    test_data, show_progress=False\n",
    ")\n",
    "\n",
    "environment_tb = get_environment(config)\n",
    "print(\n",
    "    \"The running environment of this training is as follows:\\n\"\n",
    "    + environment_tb.draw()\n",
    ")\n",
    "\n",
    "print(set_color(\"best valid \", \"yellow\") + f\": {best_valid_result}\")\n",
    "print(set_color(\"test result\", \"yellow\") + f\": {test_result}\")"
   ]
  },
  {
   "cell_type": "markdown",
   "id": "44e848c5",
   "metadata": {
    "papermill": {
     "duration": 0.017686,
     "end_time": "2024-11-11T19:31:06.248655",
     "exception": false,
     "start_time": "2024-11-11T19:31:06.230969",
     "status": "completed"
    },
    "tags": []
   },
   "source": [
    "# Model analysis"
   ]
  },
  {
   "cell_type": "markdown",
   "id": "8d1458c1",
   "metadata": {
    "papermill": {
     "duration": 0.017573,
     "end_time": "2024-11-11T19:31:06.284226",
     "exception": false,
     "start_time": "2024-11-11T19:31:06.266653",
     "status": "completed"
    },
    "tags": []
   },
   "source": [
    "## Item similarity"
   ]
  },
  {
   "cell_type": "code",
   "execution_count": 14,
   "id": "6c51fab2",
   "metadata": {
    "execution": {
     "iopub.execute_input": "2024-11-11T19:31:06.321693Z",
     "iopub.status.busy": "2024-11-11T19:31:06.320759Z",
     "iopub.status.idle": "2024-11-11T19:31:07.506010Z",
     "shell.execute_reply": "2024-11-11T19:31:07.504952Z"
    },
    "papermill": {
     "duration": 1.206363,
     "end_time": "2024-11-11T19:31:07.508430",
     "exception": false,
     "start_time": "2024-11-11T19:31:06.302067",
     "status": "completed"
    },
    "tags": []
   },
   "outputs": [],
   "source": [
    "item = pd.read_csv(\"/kaggle/input/h-and-m-personalized-fashion-recommendations/articles.csv\", dtype=dtype)\n",
    "item = item[item[\"article_id\"].isin(data[\"article_id\"])].reset_index()"
   ]
  },
  {
   "cell_type": "code",
   "execution_count": 15,
   "id": "1119aa99",
   "metadata": {
    "execution": {
     "iopub.execute_input": "2024-11-11T19:31:07.546305Z",
     "iopub.status.busy": "2024-11-11T19:31:07.545557Z",
     "iopub.status.idle": "2024-11-11T19:31:07.570878Z",
     "shell.execute_reply": "2024-11-11T19:31:07.569975Z"
    },
    "papermill": {
     "duration": 0.046175,
     "end_time": "2024-11-11T19:31:07.572913",
     "exception": false,
     "start_time": "2024-11-11T19:31:07.526738",
     "status": "completed"
    },
    "tags": []
   },
   "outputs": [
    {
     "data": {
      "text/html": [
       "<div>\n",
       "<style scoped>\n",
       "    .dataframe tbody tr th:only-of-type {\n",
       "        vertical-align: middle;\n",
       "    }\n",
       "\n",
       "    .dataframe tbody tr th {\n",
       "        vertical-align: top;\n",
       "    }\n",
       "\n",
       "    .dataframe thead th {\n",
       "        text-align: right;\n",
       "    }\n",
       "</style>\n",
       "<table border=\"1\" class=\"dataframe\">\n",
       "  <thead>\n",
       "    <tr style=\"text-align: right;\">\n",
       "      <th></th>\n",
       "      <th>index</th>\n",
       "      <th>article_id</th>\n",
       "      <th>product_code</th>\n",
       "      <th>prod_name</th>\n",
       "      <th>product_type_no</th>\n",
       "      <th>product_type_name</th>\n",
       "      <th>product_group_name</th>\n",
       "      <th>graphical_appearance_no</th>\n",
       "      <th>graphical_appearance_name</th>\n",
       "      <th>colour_group_code</th>\n",
       "      <th>...</th>\n",
       "      <th>department_name</th>\n",
       "      <th>index_code</th>\n",
       "      <th>index_name</th>\n",
       "      <th>index_group_no</th>\n",
       "      <th>index_group_name</th>\n",
       "      <th>section_no</th>\n",
       "      <th>section_name</th>\n",
       "      <th>garment_group_no</th>\n",
       "      <th>garment_group_name</th>\n",
       "      <th>detail_desc</th>\n",
       "    </tr>\n",
       "  </thead>\n",
       "  <tbody>\n",
       "    <tr>\n",
       "      <th>0</th>\n",
       "      <td>1</td>\n",
       "      <td>0108775044</td>\n",
       "      <td>108775</td>\n",
       "      <td>Strap top</td>\n",
       "      <td>253</td>\n",
       "      <td>Vest top</td>\n",
       "      <td>Garment Upper body</td>\n",
       "      <td>1010016</td>\n",
       "      <td>Solid</td>\n",
       "      <td>10</td>\n",
       "      <td>...</td>\n",
       "      <td>Jersey Basic</td>\n",
       "      <td>A</td>\n",
       "      <td>Ladieswear</td>\n",
       "      <td>1</td>\n",
       "      <td>Ladieswear</td>\n",
       "      <td>16</td>\n",
       "      <td>Womens Everyday Basics</td>\n",
       "      <td>1002</td>\n",
       "      <td>Jersey Basic</td>\n",
       "      <td>Jersey top with narrow shoulder straps.</td>\n",
       "    </tr>\n",
       "    <tr>\n",
       "      <th>1</th>\n",
       "      <td>6</td>\n",
       "      <td>0111565001</td>\n",
       "      <td>111565</td>\n",
       "      <td>20 den 1p Stockings</td>\n",
       "      <td>304</td>\n",
       "      <td>Underwear Tights</td>\n",
       "      <td>Socks &amp; Tights</td>\n",
       "      <td>1010016</td>\n",
       "      <td>Solid</td>\n",
       "      <td>9</td>\n",
       "      <td>...</td>\n",
       "      <td>Tights basic</td>\n",
       "      <td>B</td>\n",
       "      <td>Lingeries/Tights</td>\n",
       "      <td>1</td>\n",
       "      <td>Ladieswear</td>\n",
       "      <td>62</td>\n",
       "      <td>Womens Nightwear, Socks &amp; Tigh</td>\n",
       "      <td>1021</td>\n",
       "      <td>Socks and Tights</td>\n",
       "      <td>Semi shiny nylon stockings with a wide, reinfo...</td>\n",
       "    </tr>\n",
       "    <tr>\n",
       "      <th>2</th>\n",
       "      <td>8</td>\n",
       "      <td>0111586001</td>\n",
       "      <td>111586</td>\n",
       "      <td>Shape Up 30 den 1p Tights</td>\n",
       "      <td>273</td>\n",
       "      <td>Leggings/Tights</td>\n",
       "      <td>Garment Lower body</td>\n",
       "      <td>1010016</td>\n",
       "      <td>Solid</td>\n",
       "      <td>9</td>\n",
       "      <td>...</td>\n",
       "      <td>Tights basic</td>\n",
       "      <td>B</td>\n",
       "      <td>Lingeries/Tights</td>\n",
       "      <td>1</td>\n",
       "      <td>Ladieswear</td>\n",
       "      <td>62</td>\n",
       "      <td>Womens Nightwear, Socks &amp; Tigh</td>\n",
       "      <td>1021</td>\n",
       "      <td>Socks and Tights</td>\n",
       "      <td>Tights with built-in support to lift the botto...</td>\n",
       "    </tr>\n",
       "    <tr>\n",
       "      <th>3</th>\n",
       "      <td>9</td>\n",
       "      <td>0111593001</td>\n",
       "      <td>111593</td>\n",
       "      <td>Support 40 den 1p Tights</td>\n",
       "      <td>304</td>\n",
       "      <td>Underwear Tights</td>\n",
       "      <td>Socks &amp; Tights</td>\n",
       "      <td>1010016</td>\n",
       "      <td>Solid</td>\n",
       "      <td>9</td>\n",
       "      <td>...</td>\n",
       "      <td>Tights basic</td>\n",
       "      <td>B</td>\n",
       "      <td>Lingeries/Tights</td>\n",
       "      <td>1</td>\n",
       "      <td>Ladieswear</td>\n",
       "      <td>62</td>\n",
       "      <td>Womens Nightwear, Socks &amp; Tigh</td>\n",
       "      <td>1021</td>\n",
       "      <td>Socks and Tights</td>\n",
       "      <td>Semi shiny tights that shape the tummy, thighs...</td>\n",
       "    </tr>\n",
       "    <tr>\n",
       "      <th>4</th>\n",
       "      <td>10</td>\n",
       "      <td>0111609001</td>\n",
       "      <td>111609</td>\n",
       "      <td>200 den 1p Tights</td>\n",
       "      <td>304</td>\n",
       "      <td>Underwear Tights</td>\n",
       "      <td>Socks &amp; Tights</td>\n",
       "      <td>1010016</td>\n",
       "      <td>Solid</td>\n",
       "      <td>9</td>\n",
       "      <td>...</td>\n",
       "      <td>Tights basic</td>\n",
       "      <td>B</td>\n",
       "      <td>Lingeries/Tights</td>\n",
       "      <td>1</td>\n",
       "      <td>Ladieswear</td>\n",
       "      <td>62</td>\n",
       "      <td>Womens Nightwear, Socks &amp; Tigh</td>\n",
       "      <td>1021</td>\n",
       "      <td>Socks and Tights</td>\n",
       "      <td>Opaque matt tights. 200 denier.</td>\n",
       "    </tr>\n",
       "  </tbody>\n",
       "</table>\n",
       "<p>5 rows × 26 columns</p>\n",
       "</div>"
      ],
      "text/plain": [
       "   index  article_id  product_code                  prod_name  \\\n",
       "0      1  0108775044        108775                  Strap top   \n",
       "1      6  0111565001        111565        20 den 1p Stockings   \n",
       "2      8  0111586001        111586  Shape Up 30 den 1p Tights   \n",
       "3      9  0111593001        111593   Support 40 den 1p Tights   \n",
       "4     10  0111609001        111609          200 den 1p Tights   \n",
       "\n",
       "   product_type_no product_type_name  product_group_name  \\\n",
       "0              253          Vest top  Garment Upper body   \n",
       "1              304  Underwear Tights      Socks & Tights   \n",
       "2              273   Leggings/Tights  Garment Lower body   \n",
       "3              304  Underwear Tights      Socks & Tights   \n",
       "4              304  Underwear Tights      Socks & Tights   \n",
       "\n",
       "   graphical_appearance_no graphical_appearance_name  colour_group_code  ...  \\\n",
       "0                  1010016                     Solid                 10  ...   \n",
       "1                  1010016                     Solid                  9  ...   \n",
       "2                  1010016                     Solid                  9  ...   \n",
       "3                  1010016                     Solid                  9  ...   \n",
       "4                  1010016                     Solid                  9  ...   \n",
       "\n",
       "  department_name  index_code        index_name  index_group_no  \\\n",
       "0    Jersey Basic           A        Ladieswear               1   \n",
       "1    Tights basic           B  Lingeries/Tights               1   \n",
       "2    Tights basic           B  Lingeries/Tights               1   \n",
       "3    Tights basic           B  Lingeries/Tights               1   \n",
       "4    Tights basic           B  Lingeries/Tights               1   \n",
       "\n",
       "  index_group_name  section_no                    section_name  \\\n",
       "0       Ladieswear          16          Womens Everyday Basics   \n",
       "1       Ladieswear          62  Womens Nightwear, Socks & Tigh   \n",
       "2       Ladieswear          62  Womens Nightwear, Socks & Tigh   \n",
       "3       Ladieswear          62  Womens Nightwear, Socks & Tigh   \n",
       "4       Ladieswear          62  Womens Nightwear, Socks & Tigh   \n",
       "\n",
       "  garment_group_no garment_group_name  \\\n",
       "0             1002       Jersey Basic   \n",
       "1             1021   Socks and Tights   \n",
       "2             1021   Socks and Tights   \n",
       "3             1021   Socks and Tights   \n",
       "4             1021   Socks and Tights   \n",
       "\n",
       "                                         detail_desc  \n",
       "0            Jersey top with narrow shoulder straps.  \n",
       "1  Semi shiny nylon stockings with a wide, reinfo...  \n",
       "2  Tights with built-in support to lift the botto...  \n",
       "3  Semi shiny tights that shape the tummy, thighs...  \n",
       "4                    Opaque matt tights. 200 denier.  \n",
       "\n",
       "[5 rows x 26 columns]"
      ]
     },
     "execution_count": 15,
     "metadata": {},
     "output_type": "execute_result"
    }
   ],
   "source": [
    "item.head()"
   ]
  },
  {
   "cell_type": "code",
   "execution_count": 16,
   "id": "207c2449",
   "metadata": {
    "execution": {
     "iopub.execute_input": "2024-11-11T19:31:07.611240Z",
     "iopub.status.busy": "2024-11-11T19:31:07.610940Z",
     "iopub.status.idle": "2024-11-11T19:31:07.624817Z",
     "shell.execute_reply": "2024-11-11T19:31:07.623743Z"
    },
    "papermill": {
     "duration": 0.03466,
     "end_time": "2024-11-11T19:31:07.626707",
     "exception": false,
     "start_time": "2024-11-11T19:31:07.592047",
     "status": "completed"
    },
    "tags": []
   },
   "outputs": [
    {
     "name": "stdout",
     "output_type": "stream",
     "text": [
      "Number of total items: 22640\n",
      "Number of valid items: 6837\n"
     ]
    }
   ],
   "source": [
    "print(f\"Number of total items: {item['article_id'].nunique()}\")\n",
    "print(f\"Number of valid items: {dataset.item_num-1}\")"
   ]
  },
  {
   "cell_type": "code",
   "execution_count": 17,
   "id": "903edf59",
   "metadata": {
    "execution": {
     "iopub.execute_input": "2024-11-11T19:31:07.665871Z",
     "iopub.status.busy": "2024-11-11T19:31:07.665097Z",
     "iopub.status.idle": "2024-11-11T19:31:09.672791Z",
     "shell.execute_reply": "2024-11-11T19:31:09.671792Z"
    },
    "papermill": {
     "duration": 2.029067,
     "end_time": "2024-11-11T19:31:09.675034",
     "exception": false,
     "start_time": "2024-11-11T19:31:07.645967",
     "status": "completed"
    },
    "tags": []
   },
   "outputs": [],
   "source": [
    "item_str = item.select_dtypes(\"object\")\n",
    "item_str[\"description\"] = item_str.drop(columns=[\"article_id\", \"index_code\"]).apply(lambda x: ' '.join(x.dropna()), axis=1)\n",
    "item = item_str[[\"article_id\", \"description\"]]"
   ]
  },
  {
   "cell_type": "code",
   "execution_count": 18,
   "id": "adf9e77e",
   "metadata": {
    "execution": {
     "iopub.execute_input": "2024-11-11T19:31:09.716959Z",
     "iopub.status.busy": "2024-11-11T19:31:09.716612Z",
     "iopub.status.idle": "2024-11-11T19:31:10.415096Z",
     "shell.execute_reply": "2024-11-11T19:31:10.414082Z"
    },
    "papermill": {
     "duration": 0.72223,
     "end_time": "2024-11-11T19:31:10.417408",
     "exception": false,
     "start_time": "2024-11-11T19:31:09.695178",
     "status": "completed"
    },
    "tags": []
   },
   "outputs": [],
   "source": [
    "item = item.sort_values(\"article_id\")\n",
    "item_mapper = {item[\"article_id\"].iloc[i]: i for i in range(item[\"article_id\"].nunique())}\n",
    "item_inv_mapper = {i: item[\"article_id\"].iloc[i] for i in range(item[\"article_id\"].nunique())}"
   ]
  },
  {
   "cell_type": "code",
   "execution_count": 19,
   "id": "e6c530ce",
   "metadata": {
    "execution": {
     "iopub.execute_input": "2024-11-11T19:31:10.455884Z",
     "iopub.status.busy": "2024-11-11T19:31:10.455576Z",
     "iopub.status.idle": "2024-11-11T19:31:12.024682Z",
     "shell.execute_reply": "2024-11-11T19:31:12.022972Z"
    },
    "papermill": {
     "duration": 1.59269,
     "end_time": "2024-11-11T19:31:12.028879",
     "exception": false,
     "start_time": "2024-11-11T19:31:10.436189",
     "status": "completed"
    },
    "tags": []
   },
   "outputs": [],
   "source": [
    "from sklearn.feature_extraction.text import TfidfVectorizer\n",
    "from sklearn.decomposition import TruncatedSVD\n",
    "from scipy.sparse import csr_matrix\n",
    "from sklearn.metrics.pairwise import cosine_similarity\n",
    "\n",
    "vect = TfidfVectorizer()\n",
    "tfidf = vect.fit_transform(item[\"description\"])\n",
    "\n",
    "X = csr_matrix(tfidf)\n",
    "\n",
    "svd = TruncatedSVD(n_components=16, n_iter=3, random_state=42)\n",
    "X = svd.fit_transform(X)"
   ]
  },
  {
   "cell_type": "code",
   "execution_count": 20,
   "id": "bb7bc2db",
   "metadata": {
    "execution": {
     "iopub.execute_input": "2024-11-11T19:31:12.073675Z",
     "iopub.status.busy": "2024-11-11T19:31:12.073325Z",
     "iopub.status.idle": "2024-11-11T19:31:12.096224Z",
     "shell.execute_reply": "2024-11-11T19:31:12.095561Z"
    },
    "papermill": {
     "duration": 0.045354,
     "end_time": "2024-11-11T19:31:12.098083",
     "exception": false,
     "start_time": "2024-11-11T19:31:12.052729",
     "status": "completed"
    },
    "tags": []
   },
   "outputs": [],
   "source": [
    "valid_articles = dataset.id2token(dataset.iid_field, range(1, dataset.item_num))\n",
    "valid_ids = [item_mapper[item] for item in valid_articles]\n",
    "X_valid = X[valid_ids]\n",
    "valid_mapper = {valid_articles[i]: i for i in range(len(valid_articles))}\n",
    "valid_inv_mapper = {i: valid_articles[i] for i in range(len(valid_articles))}"
   ]
  },
  {
   "cell_type": "code",
   "execution_count": 21,
   "id": "3a2f0f8c",
   "metadata": {
    "execution": {
     "iopub.execute_input": "2024-11-11T19:31:12.136378Z",
     "iopub.status.busy": "2024-11-11T19:31:12.135739Z",
     "iopub.status.idle": "2024-11-11T19:31:14.967334Z",
     "shell.execute_reply": "2024-11-11T19:31:14.965975Z"
    },
    "papermill": {
     "duration": 2.854393,
     "end_time": "2024-11-11T19:31:14.970874",
     "exception": false,
     "start_time": "2024-11-11T19:31:12.116481",
     "status": "completed"
    },
    "tags": []
   },
   "outputs": [],
   "source": [
    "sim_cosine_all = cosine_similarity(X, X)\n",
    "sim_cosine_valid = cosine_similarity(X, X_valid)"
   ]
  },
  {
   "cell_type": "markdown",
   "id": "84bcd72f",
   "metadata": {
    "papermill": {
     "duration": 0.039348,
     "end_time": "2024-11-11T19:31:15.050277",
     "exception": false,
     "start_time": "2024-11-11T19:31:15.010929",
     "status": "completed"
    },
    "tags": []
   },
   "source": [
    "## Map non-data items to valid items"
   ]
  },
  {
   "cell_type": "code",
   "execution_count": 22,
   "id": "68f07959",
   "metadata": {
    "execution": {
     "iopub.execute_input": "2024-11-11T19:31:15.113444Z",
     "iopub.status.busy": "2024-11-11T19:31:15.112825Z",
     "iopub.status.idle": "2024-11-11T19:31:15.120159Z",
     "shell.execute_reply": "2024-11-11T19:31:15.119106Z"
    },
    "papermill": {
     "duration": 0.032758,
     "end_time": "2024-11-11T19:31:15.122018",
     "exception": false,
     "start_time": "2024-11-11T19:31:15.089260",
     "status": "completed"
    },
    "tags": []
   },
   "outputs": [],
   "source": [
    "from functools import lru_cache\n",
    "from sklearn.metrics.pairwise import cosine_similarity\n",
    "\n",
    "def to_valid_list(item_list):\n",
    "\n",
    "    global convert2valid\n",
    "    @lru_cache(maxsize=2048)  \n",
    "    def convert2valid(item):\n",
    "        item_id = item_mapper[item]\n",
    "        sim_scores = sim_cosine_valid[item_id] # cosine_similarity(X[item_id].reshape(1,-1), X_valid)[0]\n",
    "        sort_indices = np.argsort(-sim_scores)\n",
    "        return valid_inv_mapper[sort_indices[0]]\n",
    "\n",
    "    valid_list = []\n",
    "    for i in range(len(item_list)-1):\n",
    "        if item_list[i] not in valid_articles:\n",
    "            valid_list.append(convert2valid(item_list[i]))\n",
    "        else:\n",
    "            valid_list.append(item_list[i])\n",
    "            \n",
    "    return ['[PAD]'] if len(valid_list) == 0 else valid_list"
   ]
  },
  {
   "cell_type": "code",
   "execution_count": 23,
   "id": "0bedb108",
   "metadata": {
    "execution": {
     "iopub.execute_input": "2024-11-11T19:31:15.160148Z",
     "iopub.status.busy": "2024-11-11T19:31:15.159605Z",
     "iopub.status.idle": "2024-11-11T19:31:15.906483Z",
     "shell.execute_reply": "2024-11-11T19:31:15.905570Z"
    },
    "papermill": {
     "duration": 0.768076,
     "end_time": "2024-11-11T19:31:15.908513",
     "exception": false,
     "start_time": "2024-11-11T19:31:15.140437",
     "status": "completed"
    },
    "tags": []
   },
   "outputs": [
    {
     "name": "stdout",
     "output_type": "stream",
     "text": [
      "25667\n"
     ]
    },
    {
     "data": {
      "text/html": [
       "<div>\n",
       "<style scoped>\n",
       "    .dataframe tbody tr th:only-of-type {\n",
       "        vertical-align: middle;\n",
       "    }\n",
       "\n",
       "    .dataframe tbody tr th {\n",
       "        vertical-align: top;\n",
       "    }\n",
       "\n",
       "    .dataframe thead th {\n",
       "        text-align: right;\n",
       "    }\n",
       "</style>\n",
       "<table border=\"1\" class=\"dataframe\">\n",
       "  <thead>\n",
       "    <tr style=\"text-align: right;\">\n",
       "      <th></th>\n",
       "      <th>customer_id</th>\n",
       "      <th>sequence</th>\n",
       "    </tr>\n",
       "  </thead>\n",
       "  <tbody>\n",
       "    <tr>\n",
       "      <th>0</th>\n",
       "      <td>000058a12d5b43e67d225668fa1f8d618c13dc232df0ca...</td>\n",
       "      <td>[0794321007]</td>\n",
       "    </tr>\n",
       "    <tr>\n",
       "      <th>1</th>\n",
       "      <td>00039306476aaf41a07fed942884f16b30abfa83a2a8be...</td>\n",
       "      <td>[0624486001]</td>\n",
       "    </tr>\n",
       "    <tr>\n",
       "      <th>2</th>\n",
       "      <td>001674dc3a5fd1be9256feaecbf7a8a9ebd17232cb2188...</td>\n",
       "      <td>[0909924002, 0806131012, 0893059005, 094450600...</td>\n",
       "    </tr>\n",
       "    <tr>\n",
       "      <th>3</th>\n",
       "      <td>0016df4fbb49288b9ed4a8a0fa3d2f7038fc4ab7f02e3c...</td>\n",
       "      <td>[0863937003]</td>\n",
       "    </tr>\n",
       "    <tr>\n",
       "      <th>4</th>\n",
       "      <td>00194061f3caa80bf10d615bf406bc5959a3bd799e4f21...</td>\n",
       "      <td>[0572998005]</td>\n",
       "    </tr>\n",
       "  </tbody>\n",
       "</table>\n",
       "</div>"
      ],
      "text/plain": [
       "                                         customer_id  \\\n",
       "0  000058a12d5b43e67d225668fa1f8d618c13dc232df0ca...   \n",
       "1  00039306476aaf41a07fed942884f16b30abfa83a2a8be...   \n",
       "2  001674dc3a5fd1be9256feaecbf7a8a9ebd17232cb2188...   \n",
       "3  0016df4fbb49288b9ed4a8a0fa3d2f7038fc4ab7f02e3c...   \n",
       "4  00194061f3caa80bf10d615bf406bc5959a3bd799e4f21...   \n",
       "\n",
       "                                            sequence  \n",
       "0                                       [0794321007]  \n",
       "1                                       [0624486001]  \n",
       "2  [0909924002, 0806131012, 0893059005, 094450600...  \n",
       "3                                       [0863937003]  \n",
       "4                                       [0572998005]  "
      ]
     },
     "execution_count": 23,
     "metadata": {},
     "output_type": "execute_result"
    }
   ],
   "source": [
    "test_sequence = test_df.sort_values(['customer_id', 'timestamp']) \\\n",
    "                        .groupby('customer_id')['article_id'] \\\n",
    "                        .agg(list) \\\n",
    "                        .reset_index()\n",
    "test_sequence.columns = [\"customer_id\", \"sequence\"]\n",
    "print(len(test_sequence))\n",
    "test_sequence.head()"
   ]
  },
  {
   "cell_type": "code",
   "execution_count": 24,
   "id": "f7323346",
   "metadata": {
    "execution": {
     "iopub.execute_input": "2024-11-11T19:31:15.950173Z",
     "iopub.status.busy": "2024-11-11T19:31:15.949468Z",
     "iopub.status.idle": "2024-11-11T19:31:21.531891Z",
     "shell.execute_reply": "2024-11-11T19:31:21.530911Z"
    },
    "papermill": {
     "duration": 5.604887,
     "end_time": "2024-11-11T19:31:21.534315",
     "exception": false,
     "start_time": "2024-11-11T19:31:15.929428",
     "status": "completed"
    },
    "tags": []
   },
   "outputs": [],
   "source": [
    "test_sequence[\"item_id_list\"] = test_sequence[\"sequence\"].apply(to_valid_list)\n",
    "test_sequence[\"item_length\"] = test_sequence[\"item_id_list\"].apply(len)"
   ]
  },
  {
   "cell_type": "code",
   "execution_count": 25,
   "id": "5a48e8c1",
   "metadata": {
    "execution": {
     "iopub.execute_input": "2024-11-11T19:31:21.574761Z",
     "iopub.status.busy": "2024-11-11T19:31:21.574300Z",
     "iopub.status.idle": "2024-11-11T19:31:21.588360Z",
     "shell.execute_reply": "2024-11-11T19:31:21.587474Z"
    },
    "papermill": {
     "duration": 0.036849,
     "end_time": "2024-11-11T19:31:21.590401",
     "exception": false,
     "start_time": "2024-11-11T19:31:21.553552",
     "status": "completed"
    },
    "tags": []
   },
   "outputs": [
    {
     "data": {
      "text/html": [
       "<div>\n",
       "<style scoped>\n",
       "    .dataframe tbody tr th:only-of-type {\n",
       "        vertical-align: middle;\n",
       "    }\n",
       "\n",
       "    .dataframe tbody tr th {\n",
       "        vertical-align: top;\n",
       "    }\n",
       "\n",
       "    .dataframe thead th {\n",
       "        text-align: right;\n",
       "    }\n",
       "</style>\n",
       "<table border=\"1\" class=\"dataframe\">\n",
       "  <thead>\n",
       "    <tr style=\"text-align: right;\">\n",
       "      <th></th>\n",
       "      <th>customer_id</th>\n",
       "      <th>sequence</th>\n",
       "      <th>item_id_list</th>\n",
       "      <th>item_length</th>\n",
       "    </tr>\n",
       "  </thead>\n",
       "  <tbody>\n",
       "    <tr>\n",
       "      <th>0</th>\n",
       "      <td>000058a12d5b43e67d225668fa1f8d618c13dc232df0ca...</td>\n",
       "      <td>[0794321007]</td>\n",
       "      <td>[[PAD]]</td>\n",
       "      <td>1</td>\n",
       "    </tr>\n",
       "    <tr>\n",
       "      <th>1</th>\n",
       "      <td>00039306476aaf41a07fed942884f16b30abfa83a2a8be...</td>\n",
       "      <td>[0624486001]</td>\n",
       "      <td>[[PAD]]</td>\n",
       "      <td>1</td>\n",
       "    </tr>\n",
       "    <tr>\n",
       "      <th>2</th>\n",
       "      <td>001674dc3a5fd1be9256feaecbf7a8a9ebd17232cb2188...</td>\n",
       "      <td>[0909924002, 0806131012, 0893059005, 094450600...</td>\n",
       "      <td>[0909924002, 0806131012, 0893059005, 0944506001]</td>\n",
       "      <td>4</td>\n",
       "    </tr>\n",
       "    <tr>\n",
       "      <th>3</th>\n",
       "      <td>0016df4fbb49288b9ed4a8a0fa3d2f7038fc4ab7f02e3c...</td>\n",
       "      <td>[0863937003]</td>\n",
       "      <td>[[PAD]]</td>\n",
       "      <td>1</td>\n",
       "    </tr>\n",
       "    <tr>\n",
       "      <th>4</th>\n",
       "      <td>00194061f3caa80bf10d615bf406bc5959a3bd799e4f21...</td>\n",
       "      <td>[0572998005]</td>\n",
       "      <td>[[PAD]]</td>\n",
       "      <td>1</td>\n",
       "    </tr>\n",
       "  </tbody>\n",
       "</table>\n",
       "</div>"
      ],
      "text/plain": [
       "                                         customer_id  \\\n",
       "0  000058a12d5b43e67d225668fa1f8d618c13dc232df0ca...   \n",
       "1  00039306476aaf41a07fed942884f16b30abfa83a2a8be...   \n",
       "2  001674dc3a5fd1be9256feaecbf7a8a9ebd17232cb2188...   \n",
       "3  0016df4fbb49288b9ed4a8a0fa3d2f7038fc4ab7f02e3c...   \n",
       "4  00194061f3caa80bf10d615bf406bc5959a3bd799e4f21...   \n",
       "\n",
       "                                            sequence  \\\n",
       "0                                       [0794321007]   \n",
       "1                                       [0624486001]   \n",
       "2  [0909924002, 0806131012, 0893059005, 094450600...   \n",
       "3                                       [0863937003]   \n",
       "4                                       [0572998005]   \n",
       "\n",
       "                                       item_id_list  item_length  \n",
       "0                                           [[PAD]]            1  \n",
       "1                                           [[PAD]]            1  \n",
       "2  [0909924002, 0806131012, 0893059005, 0944506001]            4  \n",
       "3                                           [[PAD]]            1  \n",
       "4                                           [[PAD]]            1  "
      ]
     },
     "execution_count": 25,
     "metadata": {},
     "output_type": "execute_result"
    }
   ],
   "source": [
    "test_sequence.head()"
   ]
  },
  {
   "cell_type": "markdown",
   "id": "3eaa478f",
   "metadata": {
    "papermill": {
     "duration": 0.018717,
     "end_time": "2024-11-11T19:31:21.628823",
     "exception": false,
     "start_time": "2024-11-11T19:31:21.610106",
     "status": "completed"
    },
    "tags": []
   },
   "source": [
    "## Pre- and Post-processing step for non-data item"
   ]
  },
  {
   "cell_type": "code",
   "execution_count": 26,
   "id": "6cfc07a2",
   "metadata": {
    "execution": {
     "iopub.execute_input": "2024-11-11T19:31:21.668236Z",
     "iopub.status.busy": "2024-11-11T19:31:21.667581Z",
     "iopub.status.idle": "2024-11-11T19:31:21.671348Z",
     "shell.execute_reply": "2024-11-11T19:31:21.670613Z"
    },
    "papermill": {
     "duration": 0.025421,
     "end_time": "2024-11-11T19:31:21.673173",
     "exception": false,
     "start_time": "2024-11-11T19:31:21.647752",
     "status": "completed"
    },
    "tags": []
   },
   "outputs": [],
   "source": [
    "sim_based = True\n",
    "K = 10"
   ]
  },
  {
   "cell_type": "code",
   "execution_count": 27,
   "id": "a80b7ffe",
   "metadata": {
    "execution": {
     "iopub.execute_input": "2024-11-11T19:31:21.712200Z",
     "iopub.status.busy": "2024-11-11T19:31:21.711688Z",
     "iopub.status.idle": "2024-11-11T19:31:21.715501Z",
     "shell.execute_reply": "2024-11-11T19:31:21.714724Z"
    },
    "papermill": {
     "duration": 0.025294,
     "end_time": "2024-11-11T19:31:21.717296",
     "exception": false,
     "start_time": "2024-11-11T19:31:21.692002",
     "status": "completed"
    },
    "tags": []
   },
   "outputs": [],
   "source": [
    "from sklearn.metrics import average_precision_score, ndcg_score"
   ]
  },
  {
   "cell_type": "markdown",
   "id": "55ac3056",
   "metadata": {
    "papermill": {
     "duration": 0.018774,
     "end_time": "2024-11-11T19:31:21.755986",
     "exception": false,
     "start_time": "2024-11-11T19:31:21.737212",
     "status": "completed"
    },
    "tags": []
   },
   "source": [
    "### NDCG on TRAINING test_data"
   ]
  },
  {
   "cell_type": "code",
   "execution_count": 28,
   "id": "13b16d5f",
   "metadata": {
    "execution": {
     "iopub.execute_input": "2024-11-11T19:31:21.794831Z",
     "iopub.status.busy": "2024-11-11T19:31:21.794557Z",
     "iopub.status.idle": "2024-11-11T19:32:17.679382Z",
     "shell.execute_reply": "2024-11-11T19:32:17.677936Z"
    },
    "papermill": {
     "duration": 55.942308,
     "end_time": "2024-11-11T19:32:17.717126",
     "exception": false,
     "start_time": "2024-11-11T19:31:21.774818",
     "status": "completed"
    },
    "tags": []
   },
   "outputs": [
    {
     "name": "stdout",
     "output_type": "stream",
     "text": [
      "Hit NDCG on test data: 0.297\n",
      "Similarity NDCG on test data: 0.898\n"
     ]
    }
   ],
   "source": [
    "total_len = 0\n",
    "NDCG_sum = 0\n",
    "NDCG_sim_sum = 0 \n",
    "for i, epoch in enumerate(test_data):\n",
    "    interaction = epoch[0]    \n",
    "    scores = model.full_sort_predict(interaction.to(\"cuda\"))\n",
    "    y_scores = scores[:, 1:].cpu().detach().numpy()\n",
    "    true_items = dataset.id2token(dataset.iid_field, epoch[3])\n",
    "    \n",
    "    y_true_cos_sim = sim_cosine_valid[[item_mapper[i] for i in true_items]]\n",
    "    y_true_cos = np.eye(dataset.item_num-1)[(epoch[3] - 1)]\n",
    "\n",
    "    NDCG_sim_sum += ndcg_score(y_true_cos_sim, y_scores) * len(epoch[2])\n",
    "    NDCG_sum += ndcg_score(y_true_cos, y_scores) * len(epoch[2])\n",
    "    total_len += len(epoch[2])\n",
    "\n",
    "print(f\"Hit NDCG on test data: {NDCG_sum / total_len:.3f}\")\n",
    "print(f\"Similarity NDCG on test data: {NDCG_sim_sum / total_len:.3f}\")"
   ]
  },
  {
   "cell_type": "markdown",
   "id": "7901ded4",
   "metadata": {
    "papermill": {
     "duration": 0.034121,
     "end_time": "2024-11-11T19:32:17.793085",
     "exception": false,
     "start_time": "2024-11-11T19:32:17.758964",
     "status": "completed"
    },
    "tags": []
   },
   "source": [
    "### NDCG on NON-TRAINING data"
   ]
  },
  {
   "cell_type": "code",
   "execution_count": 29,
   "id": "0aa8be56",
   "metadata": {
    "execution": {
     "iopub.execute_input": "2024-11-11T19:32:17.833011Z",
     "iopub.status.busy": "2024-11-11T19:32:17.832713Z",
     "iopub.status.idle": "2024-11-11T19:34:04.837304Z",
     "shell.execute_reply": "2024-11-11T19:34:04.835620Z"
    },
    "papermill": {
     "duration": 107.029825,
     "end_time": "2024-11-11T19:34:04.842045",
     "exception": false,
     "start_time": "2024-11-11T19:32:17.812220",
     "status": "completed"
    },
    "tags": []
   },
   "outputs": [],
   "source": [
    "# topk_list = []\n",
    "shape = (len(test_sequence), dataset.item_num-1)\n",
    "\n",
    "NDCG = np.zeros(shape[0])\n",
    "NDCG_sim = np.zeros(shape[0])\n",
    "\n",
    "y_scores = np.zeros(shape)\n",
    "y_true_cos_sim = np.zeros(shape)\n",
    "y_true_cos = np.zeros(shape)\n",
    "\n",
    "for i, row in test_sequence.iterrows():\n",
    "    item_id_list = np.array([dataset.token2id(dataset.iid_field, row[\"item_id_list\"])])\n",
    "    interaction = {\n",
    "        \"item_id_list\": torch.LongTensor(item_id_list).to(\"cuda\"),\n",
    "        \"item_length\": torch.LongTensor(np.array([row[\"item_length\"]])).to(\"cuda\")\n",
    "    }\n",
    "    scores = model.full_sort_predict(interaction)[0]\n",
    "    y_scores[i] = scores[1:].cpu().detach().numpy() #.reshape(1,-1)\n",
    "\n",
    "    true_item = row[\"sequence\"][-1]\n",
    "    true_item_id = item_mapper[true_item]\n",
    "    y_true_cos_sim[i] = sim_cosine_valid[true_item_id, : ] #.reshape(1,-1)\n",
    "\n",
    "    true_item = convert2valid(true_item) if true_item not in valid_articles else true_item\n",
    "    true_item_id = dataset.token2id(dataset.iid_field, true_item) - 1\n",
    "    y_true_cos[i, true_item_id] = 1\n",
    "        \n",
    "NDCG_pre = ndcg_score(y_true_cos, y_scores)\n",
    "NDCG_sim_pre = ndcg_score(y_true_cos_sim, y_scores)\n",
    "#print(len(topk_list))"
   ]
  },
  {
   "cell_type": "code",
   "execution_count": 30,
   "id": "1b3ed9b8",
   "metadata": {
    "execution": {
     "iopub.execute_input": "2024-11-11T19:34:04.938193Z",
     "iopub.status.busy": "2024-11-11T19:34:04.937647Z",
     "iopub.status.idle": "2024-11-11T19:34:04.953557Z",
     "shell.execute_reply": "2024-11-11T19:34:04.952409Z"
    },
    "papermill": {
     "duration": 0.067532,
     "end_time": "2024-11-11T19:34:04.959396",
     "exception": false,
     "start_time": "2024-11-11T19:34:04.891864",
     "status": "completed"
    },
    "tags": []
   },
   "outputs": [
    {
     "name": "stdout",
     "output_type": "stream",
     "text": [
      "Hit NDCG with preprocessing step: 0.227\n",
      "Similarity NDCG with preprocessing step: 0.892\n"
     ]
    }
   ],
   "source": [
    "print(f\"Hit NDCG with preprocessing step: {NDCG_pre:.3f}\")\n",
    "print(f\"Similarity NDCG with preprocessing step: {NDCG_sim_pre:.3f}\")"
   ]
  },
  {
   "cell_type": "code",
   "execution_count": 31,
   "id": "ee293df3",
   "metadata": {
    "execution": {
     "iopub.execute_input": "2024-11-11T19:34:04.999680Z",
     "iopub.status.busy": "2024-11-11T19:34:04.999294Z",
     "iopub.status.idle": "2024-11-11T19:34:05.003150Z",
     "shell.execute_reply": "2024-11-11T19:34:05.002316Z"
    },
    "papermill": {
     "duration": 0.025973,
     "end_time": "2024-11-11T19:34:05.004981",
     "exception": false,
     "start_time": "2024-11-11T19:34:04.979008",
     "status": "completed"
    },
    "tags": []
   },
   "outputs": [],
   "source": [
    "from scipy.special import softmax\n",
    "from sklearn.preprocessing import MinMaxScaler"
   ]
  },
  {
   "cell_type": "code",
   "execution_count": 32,
   "id": "65caa4e2",
   "metadata": {
    "execution": {
     "iopub.execute_input": "2024-11-11T19:34:05.045213Z",
     "iopub.status.busy": "2024-11-11T19:34:05.044917Z",
     "iopub.status.idle": "2024-11-11T19:34:06.891076Z",
     "shell.execute_reply": "2024-11-11T19:34:06.890132Z"
    },
    "papermill": {
     "duration": 1.868814,
     "end_time": "2024-11-11T19:34:06.893463",
     "exception": false,
     "start_time": "2024-11-11T19:34:05.024649",
     "status": "completed"
    },
    "tags": []
   },
   "outputs": [],
   "source": [
    "non_valid_ids = [item_mapper[item] for item in item_mapper.keys() if item not in valid_articles]\n",
    "valid_ids = [item_mapper[item] for item in valid_articles]\n",
    "sim_scores = sim_cosine_valid[non_valid_ids]/ np.sum(sim_cosine_valid[non_valid_ids], axis=1).reshape(-1,1)\n",
    "# print(sim_weights.shape)\n",
    "\n",
    "def weighted_similarity(initial_scores):\n",
    "    final_scores = np.zeros((X.shape[0]))\n",
    "    final_scores[valid_ids] = initial_scores\n",
    "    final_scores[non_valid_ids] = np.dot(sim_scores, initial_scores)\n",
    "    return final_scores #.reshape(1,-1)"
   ]
  },
  {
   "cell_type": "code",
   "execution_count": 33,
   "id": "b4aeeb5f",
   "metadata": {
    "execution": {
     "iopub.execute_input": "2024-11-11T19:34:06.934617Z",
     "iopub.status.busy": "2024-11-11T19:34:06.934252Z",
     "iopub.status.idle": "2024-11-11T19:56:24.594216Z",
     "shell.execute_reply": "2024-11-11T19:56:24.592984Z"
    },
    "papermill": {
     "duration": 1337.683386,
     "end_time": "2024-11-11T19:56:24.597000",
     "exception": false,
     "start_time": "2024-11-11T19:34:06.913614",
     "status": "completed"
    },
    "tags": []
   },
   "outputs": [],
   "source": [
    "# topk_list = []\n",
    "post_shape = (len(test_sequence), X.shape[0])\n",
    "\n",
    "y_scores = np.zeros(post_shape)\n",
    "y_true_cos_sim = np.zeros(post_shape)\n",
    "y_true_cos = np.zeros(post_shape)\n",
    "\n",
    "for i, row in test_sequence.iterrows():\n",
    "    item_id_list = np.array([dataset.token2id(dataset.iid_field, row[\"item_id_list\"])])\n",
    "    interaction = {\n",
    "        \"item_id_list\": torch.LongTensor(item_id_list).to(\"cuda\"),\n",
    "        \"item_length\": torch.LongTensor(np.array([row[\"item_length\"]])).to(\"cuda\")\n",
    "    }\n",
    "    scores = model.full_sort_predict(interaction)[0]\n",
    "    scores = scores.cpu().detach().numpy()\n",
    "    \n",
    "    y_scores[i] = weighted_similarity(scores[1:])\n",
    "\n",
    "    true_item_id = item_mapper[row[\"sequence\"][-1]]\n",
    "    y_true_cos_sim[i] = sim_cosine_all[true_item_id, :] #.reshape(1,-1)\n",
    "\n",
    "    y_true_cos[i, true_item_id] = 1\n",
    "        \n",
    "NDCG_post = ndcg_score(y_true_cos, y_scores)\n",
    "NDCG_sim_post = ndcg_score(y_true_cos_sim, y_scores)\n",
    "#print(len(topk_list))"
   ]
  },
  {
   "cell_type": "code",
   "execution_count": 34,
   "id": "dafd9ac5",
   "metadata": {
    "execution": {
     "iopub.execute_input": "2024-11-11T19:56:24.639014Z",
     "iopub.status.busy": "2024-11-11T19:56:24.638703Z",
     "iopub.status.idle": "2024-11-11T19:56:24.646460Z",
     "shell.execute_reply": "2024-11-11T19:56:24.645407Z"
    },
    "papermill": {
     "duration": 0.031536,
     "end_time": "2024-11-11T19:56:24.649476",
     "exception": false,
     "start_time": "2024-11-11T19:56:24.617940",
     "status": "completed"
    },
    "tags": []
   },
   "outputs": [
    {
     "name": "stdout",
     "output_type": "stream",
     "text": [
      "Hit NDCG with pre- and post-processing step: 0.215\n",
      "Similarity NDCG with pre- and post-processing step: 0.909\n"
     ]
    }
   ],
   "source": [
    "print(f\"Hit NDCG with pre- and post-processing step: {NDCG_post:.3f}\")\n",
    "print(f\"Similarity NDCG with pre- and post-processing step: {NDCG_sim_post:.3f}\")"
   ]
  }
 ],
 "metadata": {
  "kaggle": {
   "accelerator": "nvidiaTeslaT4",
   "dataSources": [
    {
     "databundleVersionId": 3103714,
     "sourceId": 31254,
     "sourceType": "competition"
    },
    {
     "datasetId": 6001919,
     "sourceId": 9821334,
     "sourceType": "datasetVersion"
    }
   ],
   "dockerImageVersionId": 30787,
   "isGpuEnabled": true,
   "isInternetEnabled": true,
   "language": "python",
   "sourceType": "notebook"
  },
  "kernelspec": {
   "display_name": "Python 3",
   "language": "python",
   "name": "python3"
  },
  "language_info": {
   "codemirror_mode": {
    "name": "ipython",
    "version": 3
   },
   "file_extension": ".py",
   "mimetype": "text/x-python",
   "name": "python",
   "nbconvert_exporter": "python",
   "pygments_lexer": "ipython3",
   "version": "3.10.14"
  },
  "papermill": {
   "default_parameters": {},
   "duration": 2787.645706,
   "end_time": "2024-11-11T19:56:27.387219",
   "environment_variables": {},
   "exception": null,
   "input_path": "__notebook__.ipynb",
   "output_path": "__notebook__.ipynb",
   "parameters": {},
   "start_time": "2024-11-11T19:09:59.741513",
   "version": "2.6.0"
  }
 },
 "nbformat": 4,
 "nbformat_minor": 5
}
